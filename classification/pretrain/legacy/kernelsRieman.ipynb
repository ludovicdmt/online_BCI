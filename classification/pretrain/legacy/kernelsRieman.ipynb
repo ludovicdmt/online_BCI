{
 "cells": [
  {
   "cell_type": "markdown",
   "metadata": {},
   "source": [
    "# Tests for a pipeline using prototypical kernels + Riemann classif"
   ]
  },
  {
   "cell_type": "code",
   "execution_count": 37,
   "metadata": {},
   "outputs": [],
   "source": [
    "import mne\n",
    "from mne.filter import construct_iir_filter\n",
    "\n",
    "import pyxdf\n",
    "import numpy as np\n",
    "\n",
    "\n",
    "from sklearn.model_selection import cross_val_score, RepeatedStratifiedKFold\n",
    "from sklearn.pipeline import make_pipeline\n",
    "from sklearn.decomposition import PCA\n",
    "\n",
    "from pyriemann.utils.mean import mean_riemann\n",
    "from pyriemann.classification import MDM\n",
    "from pyriemann.tangentspace import TangentSpace\n",
    "from pyriemann.utils.viz import _add_alpha\n",
    "\n",
    "import matplotlib.pyplot as plt   "
   ]
  },
  {
   "cell_type": "code",
   "execution_count": 38,
   "metadata": {},
   "outputs": [
    {
     "name": "stdout",
     "output_type": "stream",
     "text": [
      "Creating RawArray with float64 data, n_channels=9, n_times=408650\n",
      "    Range : 0 ... 408649 =      0.000 ...  1634.596 secs\n",
      "Ready.\n",
      "\n",
      "IIR filter parameters\n",
      "---------------------\n",
      "Butterworth bandpass zero-phase (two-pass forward and reverse) non-causal filter:\n",
      "- Filter order 120 (effective, after forward-backward)\n",
      "- Cutoffs at 5.00, 48.00 Hz: -6.02, -6.02 dB\n",
      "\n",
      "(60, 932)\n",
      "Filtering raw data in 1 contiguous segment\n",
      "Setting up band-pass filter from 5 - 48 Hz\n",
      "\n"
     ]
    }
   ],
   "source": [
    "data = \"2014001\"\n",
    "conv_kernels = np.load(f\"C:\\\\Users\\\\ludov\\\\Documents\\\\repos\\\\kernelsConstruction\\\\extra_kernels\\\\kernels_{data}.npy\", allow_pickle=True).tolist()\n",
    "kernels = np.array(conv_kernels)[[0,1,3,6,7]]#[[2,3,5,6,7]]\n",
    "\n",
    "k_shape = kernels.shape\n",
    "if len(k_shape) == 3:\n",
    "        kernels = kernels.reshape(k_shape[0]*k_shape[1], -1)\n",
    "# kernels = kernels[:4]\n",
    "# Load data\n",
    "fname = 'C:\\\\Users\\\\ludov\\\\Documents\\\\pre_tests\\\\S1\\\\0521\\\\true_move.xdf'\n",
    "streams, header = pyxdf.load_xdf(fname)\n",
    "for idx, stream in enumerate(streams):\n",
    "        if stream['info']['type'][0] == 'EEG':\n",
    "                eeg_stream = idx\n",
    "        elif stream['info']['name'][0] == 'MotorImageryMarkers':\n",
    "                marker_stream = idx\n",
    "\n",
    "data = streams[eeg_stream][\"time_series\"].T\n",
    "#transformation from uV to V\n",
    "data[:] *= 1e-6\n",
    "# Average re-referencing\n",
    "ref_data = data.mean(0, keepdims=True)\n",
    "data -= ref_data\n",
    "data = data.astype(np.float64)\n",
    "# Retrieve the number of channels\n",
    "ch_count = int(streams[eeg_stream]['info']['channel_count'][0])\n",
    "# Retrieve the channel names\n",
    "ch_names = [streams[eeg_stream]['info']['desc'][0]['channels'][0]['channel'][ch_nb]['label'][0] for ch_nb in range(ch_count)]\n",
    "\n",
    "# electrode selection\n",
    "# list_elect = [\"FC1\", \"Fz\", \"FC2\", \"C3\", \"Cz\", \"C4\", \"CP1\", \"Pz\", \"CP2\"]= [8,4,9,12,13,14,18,24,19]\n",
    "idx_ch = [8,4,9,12,13,14,18,24,19]\n",
    "ch_names = np.array(ch_names)[idx_ch]\n",
    "ch_count = len(ch_names)\n",
    "data = data[idx_ch,:]\n",
    "\n",
    "assert data.shape[0] == ch_count  # 8 channels\n",
    "sfreq = float(streams[eeg_stream][\"info\"][\"nominal_srate\"][0])\n",
    "info = mne.create_info(list(ch_names), sfreq, ['eeg'] * ch_count )\n",
    "raw = mne.io.RawArray(data, info)\n",
    "\n",
    "# Load markers\n",
    "# get difference between EEG onset and onset of Triggers\n",
    "eeg_onset = streams[eeg_stream][\"time_stamps\"][0] \n",
    "idx_end = len(streams[marker_stream][\"time_stamps\"]) - 1\n",
    "trigger_timestamps = streams[marker_stream][\"time_stamps\"][:idx_end] - eeg_onset\n",
    "\n",
    "# get names of triggers (it's a nested list in the xdf file)    \n",
    "# turn nested list into \"normal\" one dimensional list\n",
    "trigger_descriptions = np.array(streams[marker_stream][\"time_series\"][:idx_end]).astype(int).ravel()\n",
    "\n",
    "# save trigger descriptions & their onsets as annotations for our Raw object\n",
    "triggers_annot = mne.Annotations(onset = trigger_timestamps, duration = 4., description = trigger_descriptions)\n",
    "# Add trigger annotations to the Raw object that's already containing the EEG data\n",
    "raw = raw.set_annotations(triggers_annot)\n",
    "standard_1020 = mne.channels.make_standard_montage(\"standard_1020\")\n",
    "raw = raw.set_montage(standard_1020)\n",
    "\n",
    "# SOS filtering\n",
    "low = 5\n",
    "high = 48\n",
    "iir_params = dict(order=30, ftype='butter', output='sos')  \n",
    "iir_params = construct_iir_filter(iir_params, f_pass= [low,high], sfreq=sfreq, btype='bandpass', return_copy=True)\n",
    "print((2 * len(iir_params['sos']), iir_params['padlen']))\n",
    "raw = raw.filter(low, high, method='iir', iir_params=iir_params)"
   ]
  },
  {
   "cell_type": "markdown",
   "metadata": {},
   "source": [
    "## Extend signal by convolution with kernels"
   ]
  },
  {
   "cell_type": "code",
   "execution_count": 39,
   "metadata": {},
   "outputs": [],
   "source": [
    "def convo_per_channel(data, kernel, mode='same'):\n",
    "    \"\"\"Convolution of EEG data with a kernel, channel by channel\"\"\"\n",
    "    conv_data = np.zeros_like(data)\n",
    "    for i in range(data.shape[0]):\n",
    "        conv_data[i] = np.convolve(data[i], kernel, mode=mode)\n",
    "    return conv_data"
   ]
  },
  {
   "cell_type": "code",
   "execution_count": 40,
   "metadata": {},
   "outputs": [],
   "source": [
    "data = raw.get_data()\n",
    "data_filtered = []\n",
    "for kernel in kernels:\n",
    "    data_convo = convo_per_channel(data, kernel, mode='same')\n",
    "    data_filtered.extend(data_convo)\n",
    "data_filtered = np.array(data_filtered)"
   ]
  },
  {
   "cell_type": "code",
   "execution_count": 41,
   "metadata": {},
   "outputs": [
    {
     "name": "stdout",
     "output_type": "stream",
     "text": [
      "Creating RawArray with float64 data, n_channels=45, n_times=408650\n",
      "    Range : 0 ... 408649 =      0.000 ...  1634.596 secs\n",
      "Ready.\n"
     ]
    }
   ],
   "source": [
    "# Add kernel numbe with underscore sepration after electrode name\n",
    "ch_names_kernels = [f'{ch}_{i}' for i in range(1, len(kernels)+1) for ch in ch_names]\n",
    "ch_count = len(ch_names_kernels)\n",
    "info = mne.create_info(list(ch_names_kernels), sfreq, ['eeg'] * ch_count )\n",
    "raw = mne.io.RawArray(data_filtered, info)\n",
    "raw = raw.set_annotations(triggers_annot)"
   ]
  },
  {
   "cell_type": "markdown",
   "metadata": {},
   "source": [
    "Epochs extraction"
   ]
  },
  {
   "cell_type": "code",
   "execution_count": 42,
   "metadata": {},
   "outputs": [],
   "source": [
    "# Extract epochs\n",
    "events, event_id = mne.events_from_annotations(raw, verbose=\"warning\") \n",
    "\n",
    "epochs = mne.Epochs(raw, events, tmin=0.5, tmax=3.5, \n",
    "        event_id=event_id, preload = True, baseline=None, verbose = \"warning\") \n",
    "\n",
    "epochs_MI_stage2 = epochs.get_data(copy=False).astype(np.float64)[:,:,:-1] \n",
    "labels_MI_stage2 = epochs.events[:, -1] - 1  # 0, 1 instead of 1, 2"
   ]
  },
  {
   "cell_type": "code",
   "execution_count": 43,
   "metadata": {},
   "outputs": [],
   "source": [
    "# # Retrieve beta reboud related epochs\n",
    "# Remove epochs every 5 events because they include keyboard press\n",
    "indices_to_keep = np.delete(np.arange(events.shape[0]), np.arange(4, events.shape[0], 5))\n",
    "# Use the indices to index into the events array\n",
    "events = events[indices_to_keep]\n",
    "epochs = mne.Epochs(raw, events, tmin=4.5, tmax=7.5, \n",
    "        event_id=event_id, preload = True, baseline=None, verbose = \"warning\") \n",
    "\n",
    "# Get rebound epochs and labels\n",
    "epochs_rebound = epochs.get_data(copy=False).astype(np.float64)[:,:,:-1]\n",
    "labels_rebound = np.zeros(len(epochs_rebound))  # Rebound label is 0\n",
    "\n",
    "# Create dataset to distinguish between MI and rebound\n",
    "# Downsample MI epochs to the same number of rebound epochs\n",
    "idx = np.arange(0, len(epochs_MI_stage2), 1)\n",
    "idx = np.random.choice(idx, len(epochs_rebound), replace=False)\n",
    "epochs_MI_stage1 = np.copy(epochs_MI_stage2)[idx]\n",
    "labels_MI_stage1 = np.zeros(len(epochs_MI_stage1)) + 1  # MI label is 1\n",
    "\n",
    "# Combine MI and rebound epochs and labels\n",
    "combined_epochs = np.concatenate((epochs_MI_stage1, epochs_rebound), axis=0)\n",
    "combined_labels = np.concatenate((labels_MI_stage1, labels_rebound), axis=0).astype(int)"
   ]
  },
  {
   "cell_type": "markdown",
   "metadata": {},
   "source": [
    "# Spatial covariance estimation\n",
    "Done by block to have one per kernel and then put on a diagonal"
   ]
  },
  {
   "cell_type": "code",
   "execution_count": 44,
   "metadata": {},
   "outputs": [],
   "source": [
    "from pyriemann.estimation import BlockCovariances\n",
    "cov_ext_trials = BlockCovariances(\n",
    "    estimator='lwf', block_size=len(ch_names)\n",
    ").transform(combined_epochs)"
   ]
  },
  {
   "cell_type": "markdown",
   "metadata": {},
   "source": [
    "### Show examplefor each class"
   ]
  },
  {
   "cell_type": "code",
   "execution_count": 45,
   "metadata": {},
   "outputs": [
    {
     "data": {
      "image/png": "[encoded data removed]",
      "text/plain": [
       "<Figure size 700x700 with 2 Axes>"
      ]
     },
     "metadata": {},
     "output_type": "display_data"
    }
   ],
   "source": [
    "plt.figure(figsize=(7, 7))\n",
    "event_id = list(set(combined_labels))\n",
    "for i, l in enumerate(event_id):\n",
    "    ax = plt.subplot(2, 2, i+1)\n",
    "    plt.imshow(cov_ext_trials[combined_labels == event_id[l]][10],\n",
    "               cmap=plt.get_cmap('RdBu_r'))\n",
    "    plt.title(f'Cov for class: {l} ')\n",
    "    plt.xticks([])\n",
    "    if i == 0 or i == 2:\n",
    "        #plt.yticks(np.arange(len(ch_names_kernels)), ch_names_kernels)\n",
    "        ax.tick_params(axis='both', which='major', labelsize=7)\n",
    "    else:\n",
    "        plt.yticks([])"
   ]
  },
  {
   "cell_type": "markdown",
   "metadata": {},
   "source": [
    "## Classify with MDM"
   ]
  },
  {
   "cell_type": "code",
   "execution_count": 46,
   "metadata": {},
   "outputs": [
    {
     "data": {
      "image/png": "[encoded data removed]",
      "text/plain": [
       "<Figure size 700x700 with 2 Axes>"
      ]
     },
     "metadata": {},
     "output_type": "display_data"
    }
   ],
   "source": [
    "cov_centers = np.empty((len(event_id), len(ch_names)*len(kernels), len(ch_names)*len(kernels)))\n",
    "for i, l in enumerate(event_id):\n",
    "    cov_centers[i] = mean_riemann(cov_ext_trials[combined_labels == event_id[l]])\n",
    "\n",
    "plt.figure(figsize=(7, 7))\n",
    "for i, l in enumerate(event_id):\n",
    "    ax = plt.subplot(2, 2, i+1)\n",
    "    plt.imshow(cov_centers[i], cmap=plt.get_cmap('RdBu_r'))\n",
    "    plt.title(f'Cov mean for class: {l} ')\n",
    "    plt.xticks([])\n",
    "    if i == 0 or i == 2:\n",
    "        #plt.yticks(np.arange(len(ch_names)), ch_names)\n",
    "        ax.tick_params(axis='both', which='major', labelsize=7)\n",
    "    else:\n",
    "        plt.yticks([])"
   ]
  },
  {
   "cell_type": "code",
   "execution_count": 47,
   "metadata": {},
   "outputs": [
    {
     "name": "stdout",
     "output_type": "stream",
     "text": [
      "Number of trials: 96\n",
      "MDM accuracy: 61.67% +/- 6.47\n"
     ]
    }
   ],
   "source": [
    "print(\"Number of trials: {}\".format(len(cov_ext_trials)))\n",
    "\n",
    "cv = RepeatedStratifiedKFold(n_splits=2, n_repeats=10, random_state=42)\n",
    "mdm = MDM(metric=dict(mean='riemann', distance='riemann'))\n",
    "scores = cross_val_score(mdm, cov_ext_trials, combined_labels, cv=cv, n_jobs=1)\n",
    "print(\"MDM accuracy: {:.2f}% +/- {:.2f}\".format(np.mean(scores)*100,\n",
    "                                                np.std(scores)*100))"
   ]
  },
  {
   "cell_type": "markdown",
   "metadata": {},
   "source": [
    "MDM accuracy: 87.77% +/- 3.40"
   ]
  },
  {
   "cell_type": "code",
   "execution_count": 48,
   "metadata": {},
   "outputs": [
    {
     "data": {
      "text/html": [
       "<style>#sk-container-id-4 {color: black;}#sk-container-id-4 pre{padding: 0;}#sk-container-id-4 div.sk-toggleable {background-color: white;}#sk-container-id-4 label.sk-toggleable__label {cursor: pointer;display: block;width: 100%;margin-bottom: 0;padding: 0.3em;box-sizing: border-box;text-align: center;}#sk-container-id-4 label.sk-toggleable__label-arrow:before {content: \"▸\";float: left;margin-right: 0.25em;color: #696969;}#sk-container-id-4 label.sk-toggleable__label-arrow:hover:before {color: black;}#sk-container-id-4 div.sk-estimator:hover label.sk-toggleable__label-arrow:before {color: black;}#sk-container-id-4 div.sk-toggleable__content {max-height: 0;max-width: 0;overflow: hidden;text-align: left;background-color: #f0f8ff;}#sk-container-id-4 div.sk-toggleable__content pre {margin: 0.2em;color: black;border-radius: 0.25em;background-color: #f0f8ff;}#sk-container-id-4 input.sk-toggleable__control:checked~div.sk-toggleable__content {max-height: 200px;max-width: 100%;overflow: auto;}#sk-container-id-4 input.sk-toggleable__control:checked~label.sk-toggleable__label-arrow:before {content: \"▾\";}#sk-container-id-4 div.sk-estimator input.sk-toggleable__control:checked~label.sk-toggleable__label {background-color: #d4ebff;}#sk-container-id-4 div.sk-label input.sk-toggleable__control:checked~label.sk-toggleable__label {background-color: #d4ebff;}#sk-container-id-4 input.sk-hidden--visually {border: 0;clip: rect(1px 1px 1px 1px);clip: rect(1px, 1px, 1px, 1px);height: 1px;margin: -1px;overflow: hidden;padding: 0;position: absolute;width: 1px;}#sk-container-id-4 div.sk-estimator {font-family: monospace;background-color: #f0f8ff;border: 1px dotted black;border-radius: 0.25em;box-sizing: border-box;margin-bottom: 0.5em;}#sk-container-id-4 div.sk-estimator:hover {background-color: #d4ebff;}#sk-container-id-4 div.sk-parallel-item::after {content: \"\";width: 100%;border-bottom: 1px solid gray;flex-grow: 1;}#sk-container-id-4 div.sk-label:hover label.sk-toggleable__label {background-color: #d4ebff;}#sk-container-id-4 div.sk-serial::before {content: \"\";position: absolute;border-left: 1px solid gray;box-sizing: border-box;top: 0;bottom: 0;left: 50%;z-index: 0;}#sk-container-id-4 div.sk-serial {display: flex;flex-direction: column;align-items: center;background-color: white;padding-right: 0.2em;padding-left: 0.2em;position: relative;}#sk-container-id-4 div.sk-item {position: relative;z-index: 1;}#sk-container-id-4 div.sk-parallel {display: flex;align-items: stretch;justify-content: center;background-color: white;position: relative;}#sk-container-id-4 div.sk-item::before, #sk-container-id-4 div.sk-parallel-item::before {content: \"\";position: absolute;border-left: 1px solid gray;box-sizing: border-box;top: 0;bottom: 0;left: 50%;z-index: -1;}#sk-container-id-4 div.sk-parallel-item {display: flex;flex-direction: column;z-index: 1;position: relative;background-color: white;}#sk-container-id-4 div.sk-parallel-item:first-child::after {align-self: flex-end;width: 50%;}#sk-container-id-4 div.sk-parallel-item:last-child::after {align-self: flex-start;width: 50%;}#sk-container-id-4 div.sk-parallel-item:only-child::after {width: 0;}#sk-container-id-4 div.sk-dashed-wrapped {border: 1px dashed gray;margin: 0 0.4em 0.5em 0.4em;box-sizing: border-box;padding-bottom: 0.4em;background-color: white;}#sk-container-id-4 div.sk-label label {font-family: monospace;font-weight: bold;display: inline-block;line-height: 1.2em;}#sk-container-id-4 div.sk-label-container {text-align: center;}#sk-container-id-4 div.sk-container {/* jupyter's `normalize.less` sets `[hidden] { display: none; }` but bootstrap.min.css set `[hidden] { display: none !important; }` so we also need the `!important` here to be able to override the default hidden behavior on the sphinx rendered scikit-learn.org. See: https://github.com/scikit-learn/scikit-learn/issues/21755 */display: inline-block !important;position: relative;}#sk-container-id-4 div.sk-text-repr-fallback {display: none;}</style><div id=\"sk-container-id-4\" class=\"sk-top-container\"><div class=\"sk-text-repr-fallback\"><pre>MDM(metric={&#x27;distance&#x27;: &#x27;riemann&#x27;, &#x27;mean&#x27;: &#x27;riemann&#x27;})</pre><b>In a Jupyter environment, please rerun this cell to show the HTML representation or trust the notebook. <br />On GitHub, the HTML representation is unable to render, please try loading this page with nbviewer.org.</b></div><div class=\"sk-container\" hidden><div class=\"sk-item\"><div class=\"sk-estimator sk-toggleable\"><input class=\"sk-toggleable__control sk-hidden--visually\" id=\"sk-estimator-id-6\" type=\"checkbox\" checked><label for=\"sk-estimator-id-6\" class=\"sk-toggleable__label sk-toggleable__label-arrow\">MDM</label><div class=\"sk-toggleable__content\"><pre>MDM(metric={&#x27;distance&#x27;: &#x27;riemann&#x27;, &#x27;mean&#x27;: &#x27;riemann&#x27;})</pre></div></div></div></div></div>"
      ],
      "text/plain": [
       "MDM(metric={'distance': 'riemann', 'mean': 'riemann'})"
      ]
     },
     "execution_count": 48,
     "metadata": {},
     "output_type": "execute_result"
    }
   ],
   "source": [
    "mdm.fit(cov_ext_trials, combined_labels)"
   ]
  },
  {
   "cell_type": "markdown",
   "metadata": {},
   "source": [
    "## Projection in tangent space to viz"
   ]
  },
  {
   "cell_type": "code",
   "execution_count": 49,
   "metadata": {},
   "outputs": [],
   "source": [
    "pga = make_pipeline(\n",
    "    TangentSpace(metric=\"riemann\", tsupdate=False),\n",
    "    PCA(n_components=2)\n",
    ")\n",
    "\n",
    "ts_train = pga.fit_transform(cov_ext_trials)\n",
    "ts_means = pga.transform(np.array(mdm.covmeans_))"
   ]
  },
  {
   "cell_type": "code",
   "execution_count": 50,
   "metadata": {},
   "outputs": [],
   "source": [
    "clabel = ['MI', 'rebound']\n",
    "cmap = plt.cm.winter\n",
    "\n",
    "def plot_pga(ax, data, labels, centers):\n",
    "    sc = ax.scatter(data[:, 0], data[:, 1], c=labels, marker='P', cmap=cmap)\n",
    "    ax.scatter(\n",
    "        centers[:, 0], centers[:, 1], c=np.array([0,1]), marker='o', s=100, cmap=cmap\n",
    "        )\n",
    "    ax.set(xlabel='PGA, 1st axis', ylabel='PGA, 2nd axis')\n",
    "    handles = [plt.Line2D([0], [0], marker='o', color='w', markerfacecolor=cmap(i/(len(clabel)-1)), markersize=10) for i in range(len(clabel))]\n",
    "    ax.legend(handles, clabel, loc='upper right')\n",
    "    return sc"
   ]
  },
  {
   "cell_type": "code",
   "execution_count": 51,
   "metadata": {},
   "outputs": [
    {
     "data": {
      "image/png": "[encoded data removed]",
      "text/plain": [
       "<Figure size 800x800 with 1 Axes>"
      ]
     },
     "metadata": {},
     "output_type": "display_data"
    }
   ],
   "source": [
    "fig, ax = plt.subplots(figsize=(8, 8))\n",
    "fig.suptitle('PGA of training set', fontsize=16)\n",
    "plot_pga(ax, ts_train, combined_labels, ts_means)\n",
    "plt.show()"
   ]
  },
  {
   "cell_type": "markdown",
   "metadata": {},
   "source": [
    "# Now only with MI trials"
   ]
  },
  {
   "cell_type": "code",
   "execution_count": 52,
   "metadata": {},
   "outputs": [],
   "source": [
    "cov_ext_trials = BlockCovariances(\n",
    "    estimator='lwf', block_size=len(ch_names)\n",
    ").transform(epochs_MI_stage2)"
   ]
  },
  {
   "cell_type": "markdown",
   "metadata": {},
   "source": [
    "### Show examplefor each class"
   ]
  },
  {
   "cell_type": "code",
   "execution_count": 53,
   "metadata": {},
   "outputs": [
    {
     "data": {
      "image/png": "[encoded data removed]",
      "text/plain": [
       "<Figure size 700x700 with 2 Axes>"
      ]
     },
     "metadata": {},
     "output_type": "display_data"
    }
   ],
   "source": [
    "plt.figure(figsize=(7, 7))\n",
    "event_id = list(set(labels_MI_stage2))\n",
    "for i, l in enumerate(event_id):\n",
    "    ax = plt.subplot(2, 2, i+1)\n",
    "    plt.imshow(cov_ext_trials[labels_MI_stage2 == event_id[l]][10],\n",
    "               cmap=plt.get_cmap('RdBu_r'))\n",
    "    plt.title(f'Cov for class: {l} ')\n",
    "    plt.xticks([])\n",
    "    if i == 0 or i == 2:\n",
    "        #plt.yticks(np.arange(len(ch_names_kernels)), ch_names_kernels)\n",
    "        ax.tick_params(axis='both', which='major', labelsize=7)\n",
    "    else:\n",
    "        plt.yticks([])"
   ]
  },
  {
   "cell_type": "markdown",
   "metadata": {},
   "source": [
    "## Classify with MDM"
   ]
  },
  {
   "cell_type": "code",
   "execution_count": 54,
   "metadata": {},
   "outputs": [
    {
     "data": {
      "image/png": "[encoded data removed]",
      "text/plain": [
       "<Figure size 1400x1400 with 4 Axes>"
      ]
     },
     "metadata": {},
     "output_type": "display_data"
    }
   ],
   "source": [
    "import matplotlib.pyplot as plt\n",
    "from mpl_toolkits.axes_grid1 import make_axes_locatable\n",
    "\n",
    "cov_centers = np.empty((len(event_id), len(ch_names)*len(kernels), len(ch_names)*len(kernels)))\n",
    "for i, l in enumerate(event_id):\n",
    "    cov_centers[i] = mean_riemann(cov_ext_trials[labels_MI_stage2 == event_id[l]])\n",
    "\n",
    "plt.figure(figsize=(14, 14))\n",
    "for i, l in enumerate(event_id):\n",
    "    ax = plt.subplot(2, 2, i+1)\n",
    "    im = ax.imshow(cov_centers[i], cmap=plt.get_cmap('RdBu_r'))\n",
    "    if l == 0:\n",
    "        ax.set_title(f'Cov mean for class: left')\n",
    "    else:\n",
    "        ax.set_title(f'Cov mean for class: right')\n",
    "    # ax.set_title(f'Cov mean for class: {l} ')\n",
    "    ax.set_xticks([])\n",
    "    if i == 0 or i == 2:\n",
    "        ax.set_yticks(np.arange(len(ch_names)), ch_names)\n",
    "        ax.tick_params(axis='both', which='major', labelsize=7)\n",
    "    else:\n",
    "        ax.set_yticks([])\n",
    "\n",
    "    # Create a new axes for the colorbar that is the same height as the original axes\n",
    "    divider = make_axes_locatable(ax)\n",
    "    cax = divider.append_axes(\"right\", size=\"5%\", pad=0.05)\n",
    "\n",
    "    plt.colorbar(im, cax=cax)"
   ]
  },
  {
   "cell_type": "code",
   "execution_count": 55,
   "metadata": {},
   "outputs": [
    {
     "name": "stdout",
     "output_type": "stream",
     "text": [
      "Number of trials: 60\n",
      "MDM accuracy: 48.66% +/- 14.19\n"
     ]
    }
   ],
   "source": [
    "print(\"Number of trials: {}\".format(len(cov_ext_trials)))\n",
    "\n",
    "cv = RepeatedStratifiedKFold(n_splits=7, n_repeats=4, random_state=42)\n",
    "mdm2 = MDM(metric=dict(mean='riemann', distance='riemann'))\n",
    "scores = cross_val_score(mdm2, cov_ext_trials, labels_MI_stage2, cv=cv, n_jobs=1)\n",
    "print(\"MDM accuracy: {:.2f}% +/- {:.2f}\".format(np.mean(scores)*100,\n",
    "                                                np.std(scores)*100))"
   ]
  },
  {
   "cell_type": "code",
   "execution_count": 56,
   "metadata": {},
   "outputs": [
    {
     "name": "stdout",
     "output_type": "stream",
     "text": [
      "TS + LR accuracy: 42.56% +/- 10.64\n"
     ]
    },
    {
     "data": {
      "text/html": [
       "<style>#sk-container-id-5 {color: black;}#sk-container-id-5 pre{padding: 0;}#sk-container-id-5 div.sk-toggleable {background-color: white;}#sk-container-id-5 label.sk-toggleable__label {cursor: pointer;display: block;width: 100%;margin-bottom: 0;padding: 0.3em;box-sizing: border-box;text-align: center;}#sk-container-id-5 label.sk-toggleable__label-arrow:before {content: \"▸\";float: left;margin-right: 0.25em;color: #696969;}#sk-container-id-5 label.sk-toggleable__label-arrow:hover:before {color: black;}#sk-container-id-5 div.sk-estimator:hover label.sk-toggleable__label-arrow:before {color: black;}#sk-container-id-5 div.sk-toggleable__content {max-height: 0;max-width: 0;overflow: hidden;text-align: left;background-color: #f0f8ff;}#sk-container-id-5 div.sk-toggleable__content pre {margin: 0.2em;color: black;border-radius: 0.25em;background-color: #f0f8ff;}#sk-container-id-5 input.sk-toggleable__control:checked~div.sk-toggleable__content {max-height: 200px;max-width: 100%;overflow: auto;}#sk-container-id-5 input.sk-toggleable__control:checked~label.sk-toggleable__label-arrow:before {content: \"▾\";}#sk-container-id-5 div.sk-estimator input.sk-toggleable__control:checked~label.sk-toggleable__label {background-color: #d4ebff;}#sk-container-id-5 div.sk-label input.sk-toggleable__control:checked~label.sk-toggleable__label {background-color: #d4ebff;}#sk-container-id-5 input.sk-hidden--visually {border: 0;clip: rect(1px 1px 1px 1px);clip: rect(1px, 1px, 1px, 1px);height: 1px;margin: -1px;overflow: hidden;padding: 0;position: absolute;width: 1px;}#sk-container-id-5 div.sk-estimator {font-family: monospace;background-color: #f0f8ff;border: 1px dotted black;border-radius: 0.25em;box-sizing: border-box;margin-bottom: 0.5em;}#sk-container-id-5 div.sk-estimator:hover {background-color: #d4ebff;}#sk-container-id-5 div.sk-parallel-item::after {content: \"\";width: 100%;border-bottom: 1px solid gray;flex-grow: 1;}#sk-container-id-5 div.sk-label:hover label.sk-toggleable__label {background-color: #d4ebff;}#sk-container-id-5 div.sk-serial::before {content: \"\";position: absolute;border-left: 1px solid gray;box-sizing: border-box;top: 0;bottom: 0;left: 50%;z-index: 0;}#sk-container-id-5 div.sk-serial {display: flex;flex-direction: column;align-items: center;background-color: white;padding-right: 0.2em;padding-left: 0.2em;position: relative;}#sk-container-id-5 div.sk-item {position: relative;z-index: 1;}#sk-container-id-5 div.sk-parallel {display: flex;align-items: stretch;justify-content: center;background-color: white;position: relative;}#sk-container-id-5 div.sk-item::before, #sk-container-id-5 div.sk-parallel-item::before {content: \"\";position: absolute;border-left: 1px solid gray;box-sizing: border-box;top: 0;bottom: 0;left: 50%;z-index: -1;}#sk-container-id-5 div.sk-parallel-item {display: flex;flex-direction: column;z-index: 1;position: relative;background-color: white;}#sk-container-id-5 div.sk-parallel-item:first-child::after {align-self: flex-end;width: 50%;}#sk-container-id-5 div.sk-parallel-item:last-child::after {align-self: flex-start;width: 50%;}#sk-container-id-5 div.sk-parallel-item:only-child::after {width: 0;}#sk-container-id-5 div.sk-dashed-wrapped {border: 1px dashed gray;margin: 0 0.4em 0.5em 0.4em;box-sizing: border-box;padding-bottom: 0.4em;background-color: white;}#sk-container-id-5 div.sk-label label {font-family: monospace;font-weight: bold;display: inline-block;line-height: 1.2em;}#sk-container-id-5 div.sk-label-container {text-align: center;}#sk-container-id-5 div.sk-container {/* jupyter's `normalize.less` sets `[hidden] { display: none; }` but bootstrap.min.css set `[hidden] { display: none !important; }` so we also need the `!important` here to be able to override the default hidden behavior on the sphinx rendered scikit-learn.org. See: https://github.com/scikit-learn/scikit-learn/issues/21755 */display: inline-block !important;position: relative;}#sk-container-id-5 div.sk-text-repr-fallback {display: none;}</style><div id=\"sk-container-id-5\" class=\"sk-top-container\"><div class=\"sk-text-repr-fallback\"><pre>Pipeline(steps=[(&#x27;tangentspace&#x27;, TangentSpace(tsupdate=True)),\n",
       "                (&#x27;logisticregressioncv&#x27;,\n",
       "                 LogisticRegressionCV(cv=5, n_jobs=-1))])</pre><b>In a Jupyter environment, please rerun this cell to show the HTML representation or trust the notebook. <br />On GitHub, the HTML representation is unable to render, please try loading this page with nbviewer.org.</b></div><div class=\"sk-container\" hidden><div class=\"sk-item sk-dashed-wrapped\"><div class=\"sk-label-container\"><div class=\"sk-label sk-toggleable\"><input class=\"sk-toggleable__control sk-hidden--visually\" id=\"sk-estimator-id-7\" type=\"checkbox\" ><label for=\"sk-estimator-id-7\" class=\"sk-toggleable__label sk-toggleable__label-arrow\">Pipeline</label><div class=\"sk-toggleable__content\"><pre>Pipeline(steps=[(&#x27;tangentspace&#x27;, TangentSpace(tsupdate=True)),\n",
       "                (&#x27;logisticregressioncv&#x27;,\n",
       "                 LogisticRegressionCV(cv=5, n_jobs=-1))])</pre></div></div></div><div class=\"sk-serial\"><div class=\"sk-item\"><div class=\"sk-estimator sk-toggleable\"><input class=\"sk-toggleable__control sk-hidden--visually\" id=\"sk-estimator-id-8\" type=\"checkbox\" ><label for=\"sk-estimator-id-8\" class=\"sk-toggleable__label sk-toggleable__label-arrow\">TangentSpace</label><div class=\"sk-toggleable__content\"><pre>TangentSpace(tsupdate=True)</pre></div></div></div><div class=\"sk-item\"><div class=\"sk-estimator sk-toggleable\"><input class=\"sk-toggleable__control sk-hidden--visually\" id=\"sk-estimator-id-9\" type=\"checkbox\" ><label for=\"sk-estimator-id-9\" class=\"sk-toggleable__label sk-toggleable__label-arrow\">LogisticRegressionCV</label><div class=\"sk-toggleable__content\"><pre>LogisticRegressionCV(cv=5, n_jobs=-1)</pre></div></div></div></div></div></div></div>"
      ],
      "text/plain": [
       "Pipeline(steps=[('tangentspace', TangentSpace(tsupdate=True)),\n",
       "                ('logisticregressioncv',\n",
       "                 LogisticRegressionCV(cv=5, n_jobs=-1))])"
      ]
     },
     "execution_count": 56,
     "metadata": {},
     "output_type": "execute_result"
    }
   ],
   "source": [
    "from sklearn.linear_model import LogisticRegressionCV\n",
    "\n",
    "cv = RepeatedStratifiedKFold(n_splits=7, n_repeats=4, random_state=42)\n",
    "\n",
    "TSLR = make_pipeline(\n",
    "    TangentSpace(metric=\"riemann\", tsupdate=True),\n",
    "    LogisticRegressionCV(cv=5, n_jobs=-1)\n",
    ")\n",
    "\n",
    "scores = cross_val_score(TSLR, cov_ext_trials, labels_MI_stage2, cv=cv, n_jobs=1)\n",
    "print(\"TS + LR accuracy: {:.2f}% +/- {:.2f}\".format(np.mean(scores)*100,\n",
    "                                                np.std(scores)*100))\n",
    "\n",
    "TSLR.fit(cov_ext_trials, labels_MI_stage2)"
   ]
  },
  {
   "cell_type": "markdown",
   "metadata": {},
   "source": [
    "## Another session"
   ]
  },
  {
   "cell_type": "code",
   "execution_count": 57,
   "metadata": {},
   "outputs": [
    {
     "name": "stdout",
     "output_type": "stream",
     "text": [
      "Creating RawArray with float64 data, n_channels=9, n_times=223000\n",
      "    Range : 0 ... 222999 =      0.000 ...   891.996 secs\n",
      "Ready.\n",
      "\n",
      "IIR filter parameters\n",
      "---------------------\n",
      "Butterworth bandpass zero-phase (two-pass forward and reverse) non-causal filter:\n",
      "- Filter order 8 (effective, after forward-backward)\n",
      "- Cutoffs at 5.00, 35.00 Hz: -6.02, -6.02 dB\n",
      "\n",
      "(4, 69)\n",
      "Filtering raw data in 1 contiguous segment\n",
      "Setting up band-pass filter from 5 - 35 Hz\n",
      "\n"
     ]
    }
   ],
   "source": [
    "# Load data\n",
    "fname = 'C:\\\\Users\\\\ludov\\\\Documents\\\\pre_tests\\\\S0\\\\4sMI_7sITI_0703.xdf'\n",
    "streams, header = pyxdf.load_xdf(fname)\n",
    "for idx, stream in enumerate(streams):\n",
    "        if stream['info']['type'][0] == 'EEG':\n",
    "                eeg_stream = idx\n",
    "        elif stream['info']['name'][0] == 'MotorImageryMarkers':\n",
    "                marker_stream = idx\n",
    "\n",
    "data = streams[eeg_stream][\"time_series\"].T\n",
    "#transformation from uV to V\n",
    "data[:] *= 1e-6\n",
    "# Average re-referencing\n",
    "ref_data = data.mean(0, keepdims=True)\n",
    "data -= ref_data\n",
    "data = data.astype(np.float64)\n",
    "# Retrieve the number of channels\n",
    "ch_count = int(streams[eeg_stream]['info']['channel_count'][0])\n",
    "# Retrieve the channel names\n",
    "ch_names = [streams[eeg_stream]['info']['desc'][0]['channels'][0]['channel'][ch_nb]['label'][0] for ch_nb in range(ch_count)]\n",
    "\n",
    "# electrode selection\n",
    "# list_elect = [\"FC1\", \"Fz\", \"FC2\", \"C3\", \"Cz\", \"C4\", \"CP1\", \"Pz\", \"CP2\"]= [8,4,9,12,13,14,18,24,19]\n",
    "idx_ch = [8,4,9,12,13,14,18,24,19]\n",
    "ch_names = np.array(ch_names)[idx_ch]\n",
    "ch_count = len(ch_names)\n",
    "data = data[idx_ch,:]\n",
    "\n",
    "assert data.shape[0] == ch_count  # 8 channels\n",
    "sfreq = float(streams[eeg_stream][\"info\"][\"nominal_srate\"][0])\n",
    "info = mne.create_info(list(ch_names), sfreq, ['eeg'] * ch_count )\n",
    "raw = mne.io.RawArray(data, info)\n",
    "\n",
    "# Load markers\n",
    "# get difference between EEG onset and onset of Triggers\n",
    "eeg_onset = streams[eeg_stream][\"time_stamps\"][0] \n",
    "trigger_timestamps = streams[marker_stream][\"time_stamps\"][:70] - eeg_onset\n",
    "\n",
    "# get names of triggers (it's a nested list in the xdf file)    \n",
    "# turn nested list into \"normal\" one dimensional list\n",
    "trigger_descriptions = np.array(streams[marker_stream][\"time_series\"][:70]).astype(int).ravel()\n",
    "\n",
    "# save trigger descriptions & their onsets as annotations for our Raw object\n",
    "triggers_annot = mne.Annotations(onset = trigger_timestamps, duration = 4., description = trigger_descriptions)\n",
    "# Add trigger annotations to the Raw object that's already containing the EEG data\n",
    "raw = raw.set_annotations(triggers_annot)\n",
    "standard_1020 = mne.channels.make_standard_montage(\"standard_1020\")\n",
    "raw = raw.set_montage(standard_1020)\n",
    "\n",
    "# SOS filtering\n",
    "low = 5\n",
    "high = 35\n",
    "iir_params = dict(order=2, ftype='butter', output='sos')  \n",
    "iir_params = construct_iir_filter(iir_params, f_pass= [low,high], sfreq=sfreq, btype='bandpass', return_copy=True)\n",
    "print((2 * len(iir_params['sos']), iir_params['padlen']))\n",
    "raw = raw.filter(low, high, method='iir', iir_params=iir_params)"
   ]
  },
  {
   "cell_type": "markdown",
   "metadata": {},
   "source": [
    "## Extend signal by convolution with kernels"
   ]
  },
  {
   "cell_type": "code",
   "execution_count": 58,
   "metadata": {},
   "outputs": [],
   "source": [
    "def convo_per_channel(data, kernel, mode='same'):\n",
    "    \"\"\"Convolution of EEG data with a kernel, channel by channel\"\"\"\n",
    "    conv_data = np.zeros_like(data)\n",
    "    for i in range(data.shape[0]):\n",
    "        conv_data[i] = np.convolve(data[i], kernel, mode=mode)\n",
    "    return conv_data"
   ]
  },
  {
   "cell_type": "code",
   "execution_count": 59,
   "metadata": {},
   "outputs": [],
   "source": [
    "data = raw.get_data()\n",
    "data_filtered = []\n",
    "for kernel in kernels:\n",
    "    data_convo = convo_per_channel(data, kernel, mode='same')\n",
    "    data_filtered.extend(data_convo)\n",
    "data_filtered = np.array(data_filtered)"
   ]
  },
  {
   "cell_type": "code",
   "execution_count": 60,
   "metadata": {},
   "outputs": [
    {
     "name": "stdout",
     "output_type": "stream",
     "text": [
      "Creating RawArray with float64 data, n_channels=45, n_times=223000\n",
      "    Range : 0 ... 222999 =      0.000 ...   891.996 secs\n",
      "Ready.\n"
     ]
    }
   ],
   "source": [
    "# Add kernel numbe with underscore sepration after electrode name\n",
    "ch_names_kernels = [f'{ch}_{i}' for i in range(1, len(kernels)+1) for ch in ch_names]\n",
    "ch_count = len(ch_names_kernels)\n",
    "info = mne.create_info(list(ch_names_kernels), sfreq, ['eeg'] * ch_count )\n",
    "raw = mne.io.RawArray(data_filtered, info)\n",
    "raw = raw.set_annotations(triggers_annot)"
   ]
  },
  {
   "cell_type": "markdown",
   "metadata": {},
   "source": [
    "Epochs extraction"
   ]
  },
  {
   "cell_type": "code",
   "execution_count": 61,
   "metadata": {},
   "outputs": [],
   "source": [
    "# Extract epochs\n",
    "events, event_id = mne.events_from_annotations(raw, verbose=\"warning\") \n",
    "\n",
    "epochs = mne.Epochs(raw, events, tmin=0.5, tmax=3.5, \n",
    "        event_id=event_id, preload = True, baseline=None, verbose = \"warning\") \n",
    "\n",
    "epochs_MI_stage2 = epochs.get_data(copy=False).astype(np.float64)[:,:,:-1] \n",
    "labels_MI_stage2 = epochs.events[:, -1] - 1  # 0, 1 instead of 1, 2"
   ]
  },
  {
   "cell_type": "code",
   "execution_count": 62,
   "metadata": {},
   "outputs": [],
   "source": [
    "# # Retrieve beta reboud related epochs\n",
    "# Remove epochs every 5 events because they include keyboard press\n",
    "indices_to_keep = np.delete(np.arange(events.shape[0]), np.arange(4, events.shape[0], 5))\n",
    "# Use the indices to index into the events array\n",
    "events = events[indices_to_keep]\n",
    "epochs = mne.Epochs(raw, events, tmin=4.5, tmax=7.5, \n",
    "        event_id=event_id, preload = True, baseline=None, verbose = \"warning\") \n",
    "\n",
    "# Get rebound epochs and labels\n",
    "epochs_rebound = epochs.get_data(copy=False).astype(np.float64)[:,:,:-1]\n",
    "labels_rebound = np.zeros(len(epochs_rebound))  # Rebound label is 0\n",
    "\n",
    "# Create dataset to distinguish between MI and rebound\n",
    "# Downsample MI epochs to the same number of rebound epochs\n",
    "idx = np.arange(0, len(epochs_MI_stage2), 1)\n",
    "idx = np.random.choice(idx, len(epochs_rebound), replace=False)\n",
    "epochs_MI_stage1 = np.copy(epochs_MI_stage2)[idx]\n",
    "labels_MI_stage1 = np.zeros(len(epochs_MI_stage1)) + 1  # MI label is 1\n",
    "\n",
    "# Combine MI and rebound epochs and labels\n",
    "combined_epochs = np.concatenate((epochs_MI_stage1, epochs_rebound), axis=0)\n",
    "combined_labels = np.concatenate((labels_MI_stage1, labels_rebound), axis=0).astype(int)"
   ]
  },
  {
   "cell_type": "markdown",
   "metadata": {},
   "source": [
    "# Spatial covariance estimation\n",
    "Done by block to have one per kernel and then put on a diagonal"
   ]
  },
  {
   "cell_type": "code",
   "execution_count": 63,
   "metadata": {},
   "outputs": [],
   "source": [
    "cov_ext_trials = BlockCovariances(\n",
    "    estimator='lwf', block_size=len(ch_names)\n",
    ").transform(combined_epochs)"
   ]
  },
  {
   "cell_type": "code",
   "execution_count": 64,
   "metadata": {},
   "outputs": [
    {
     "data": {
      "text/plain": [
       "0.41964285714285715"
      ]
     },
     "execution_count": 64,
     "metadata": {},
     "output_type": "execute_result"
    }
   ],
   "source": [
    "mdm.score(cov_ext_trials, combined_labels)"
   ]
  },
  {
   "cell_type": "code",
   "execution_count": 65,
   "metadata": {},
   "outputs": [],
   "source": [
    "cov_ext_trials = BlockCovariances(\n",
    "    estimator='lwf', block_size=len(ch_names)\n",
    ").transform(epochs_MI_stage2)"
   ]
  },
  {
   "cell_type": "code",
   "execution_count": 66,
   "metadata": {},
   "outputs": [
    {
     "data": {
      "text/plain": [
       "0.44285714285714284"
      ]
     },
     "execution_count": 66,
     "metadata": {},
     "output_type": "execute_result"
    }
   ],
   "source": [
    "TSLR.score(cov_ext_trials, labels_MI_stage2)"
   ]
  },
  {
   "cell_type": "markdown",
   "metadata": {},
   "source": [
    "kern PCA session 3: TS + LR accuracy: 82.14% +/- 11.13"
   ]
  },
  {
   "cell_type": "markdown",
   "metadata": {},
   "source": [
    "kern orth: TS + LR accuracy: 76.43% +/- 9.34"
   ]
  },
  {
   "cell_type": "markdown",
   "metadata": {},
   "source": [
    "TS + LR accuracy: 76.43% +/- 11.41"
   ]
  },
  {
   "cell_type": "markdown",
   "metadata": {},
   "source": [
    "from lightgbm import LGBMClassifier as lgbm\n",
    "from sklearn.model_selection import GridSearchCV\n",
    "\n",
    "cv = RepeatedKFold(n_splits=7, n_repeats=4, random_state=42)\n",
    "\n",
    "TSLR = make_pipeline(\n",
    "    TangentSpace(metric=\"riemann\", tsupdate=False),\n",
    "    lgbm(n_jobs=1, verbose=0)\n",
    ")\n",
    "\n",
    "# Define the parameter grid\n",
    "param_grid = {\n",
    "    'lgbmclassifier__num_leaves': [31, 50, 100],\n",
    "    'lgbmclassifier__max_depth': [-1, 50, 100],\n",
    "    'lgbmclassifier__learning_rate': [0.1, 0.05, 0.01],\n",
    "    'lgbmclassifier__n_estimators': [100, 200, 500]\n",
    "}\n",
    "\n",
    "# Perform grid search\n",
    "grid_search = GridSearchCV(TSLR, param_grid, cv=cv, n_jobs=-1)\n",
    "grid_search.fit(cov_ext_trials, labels_MI_stage2)\n",
    "\n",
    "print(\"Best parameters: \", grid_search.best_params_)\n",
    "\n",
    "# Evaluate the model with the best parameters\n",
    "scores = cross_val_score(grid_search.best_estimator_, cov_ext_trials, labels_MI_stage2, cv=cv, n_jobs=1)\n",
    "print(\"TS + GBM accuracy: {:.2f}% +/- {:.2f}\".format(np.mean(scores)*100, np.std(scores)*100))"
   ]
  },
  {
   "cell_type": "code",
   "execution_count": 67,
   "metadata": {},
   "outputs": [
    {
     "data": {
      "text/html": [
       "<style>#sk-container-id-6 {color: black;}#sk-container-id-6 pre{padding: 0;}#sk-container-id-6 div.sk-toggleable {background-color: white;}#sk-container-id-6 label.sk-toggleable__label {cursor: pointer;display: block;width: 100%;margin-bottom: 0;padding: 0.3em;box-sizing: border-box;text-align: center;}#sk-container-id-6 label.sk-toggleable__label-arrow:before {content: \"▸\";float: left;margin-right: 0.25em;color: #696969;}#sk-container-id-6 label.sk-toggleable__label-arrow:hover:before {color: black;}#sk-container-id-6 div.sk-estimator:hover label.sk-toggleable__label-arrow:before {color: black;}#sk-container-id-6 div.sk-toggleable__content {max-height: 0;max-width: 0;overflow: hidden;text-align: left;background-color: #f0f8ff;}#sk-container-id-6 div.sk-toggleable__content pre {margin: 0.2em;color: black;border-radius: 0.25em;background-color: #f0f8ff;}#sk-container-id-6 input.sk-toggleable__control:checked~div.sk-toggleable__content {max-height: 200px;max-width: 100%;overflow: auto;}#sk-container-id-6 input.sk-toggleable__control:checked~label.sk-toggleable__label-arrow:before {content: \"▾\";}#sk-container-id-6 div.sk-estimator input.sk-toggleable__control:checked~label.sk-toggleable__label {background-color: #d4ebff;}#sk-container-id-6 div.sk-label input.sk-toggleable__control:checked~label.sk-toggleable__label {background-color: #d4ebff;}#sk-container-id-6 input.sk-hidden--visually {border: 0;clip: rect(1px 1px 1px 1px);clip: rect(1px, 1px, 1px, 1px);height: 1px;margin: -1px;overflow: hidden;padding: 0;position: absolute;width: 1px;}#sk-container-id-6 div.sk-estimator {font-family: monospace;background-color: #f0f8ff;border: 1px dotted black;border-radius: 0.25em;box-sizing: border-box;margin-bottom: 0.5em;}#sk-container-id-6 div.sk-estimator:hover {background-color: #d4ebff;}#sk-container-id-6 div.sk-parallel-item::after {content: \"\";width: 100%;border-bottom: 1px solid gray;flex-grow: 1;}#sk-container-id-6 div.sk-label:hover label.sk-toggleable__label {background-color: #d4ebff;}#sk-container-id-6 div.sk-serial::before {content: \"\";position: absolute;border-left: 1px solid gray;box-sizing: border-box;top: 0;bottom: 0;left: 50%;z-index: 0;}#sk-container-id-6 div.sk-serial {display: flex;flex-direction: column;align-items: center;background-color: white;padding-right: 0.2em;padding-left: 0.2em;position: relative;}#sk-container-id-6 div.sk-item {position: relative;z-index: 1;}#sk-container-id-6 div.sk-parallel {display: flex;align-items: stretch;justify-content: center;background-color: white;position: relative;}#sk-container-id-6 div.sk-item::before, #sk-container-id-6 div.sk-parallel-item::before {content: \"\";position: absolute;border-left: 1px solid gray;box-sizing: border-box;top: 0;bottom: 0;left: 50%;z-index: -1;}#sk-container-id-6 div.sk-parallel-item {display: flex;flex-direction: column;z-index: 1;position: relative;background-color: white;}#sk-container-id-6 div.sk-parallel-item:first-child::after {align-self: flex-end;width: 50%;}#sk-container-id-6 div.sk-parallel-item:last-child::after {align-self: flex-start;width: 50%;}#sk-container-id-6 div.sk-parallel-item:only-child::after {width: 0;}#sk-container-id-6 div.sk-dashed-wrapped {border: 1px dashed gray;margin: 0 0.4em 0.5em 0.4em;box-sizing: border-box;padding-bottom: 0.4em;background-color: white;}#sk-container-id-6 div.sk-label label {font-family: monospace;font-weight: bold;display: inline-block;line-height: 1.2em;}#sk-container-id-6 div.sk-label-container {text-align: center;}#sk-container-id-6 div.sk-container {/* jupyter's `normalize.less` sets `[hidden] { display: none; }` but bootstrap.min.css set `[hidden] { display: none !important; }` so we also need the `!important` here to be able to override the default hidden behavior on the sphinx rendered scikit-learn.org. See: https://github.com/scikit-learn/scikit-learn/issues/21755 */display: inline-block !important;position: relative;}#sk-container-id-6 div.sk-text-repr-fallback {display: none;}</style><div id=\"sk-container-id-6\" class=\"sk-top-container\"><div class=\"sk-text-repr-fallback\"><pre>MDM(metric={&#x27;distance&#x27;: &#x27;riemann&#x27;, &#x27;mean&#x27;: &#x27;riemann&#x27;})</pre><b>In a Jupyter environment, please rerun this cell to show the HTML representation or trust the notebook. <br />On GitHub, the HTML representation is unable to render, please try loading this page with nbviewer.org.</b></div><div class=\"sk-container\" hidden><div class=\"sk-item\"><div class=\"sk-estimator sk-toggleable\"><input class=\"sk-toggleable__control sk-hidden--visually\" id=\"sk-estimator-id-10\" type=\"checkbox\" checked><label for=\"sk-estimator-id-10\" class=\"sk-toggleable__label sk-toggleable__label-arrow\">MDM</label><div class=\"sk-toggleable__content\"><pre>MDM(metric={&#x27;distance&#x27;: &#x27;riemann&#x27;, &#x27;mean&#x27;: &#x27;riemann&#x27;})</pre></div></div></div></div></div>"
      ],
      "text/plain": [
       "MDM(metric={'distance': 'riemann', 'mean': 'riemann'})"
      ]
     },
     "execution_count": 67,
     "metadata": {},
     "output_type": "execute_result"
    }
   ],
   "source": [
    "mdm.fit(cov_ext_trials, labels_MI_stage2)"
   ]
  },
  {
   "cell_type": "markdown",
   "metadata": {},
   "source": [
    "## Projection in tangent space to viz"
   ]
  },
  {
   "cell_type": "code",
   "execution_count": 68,
   "metadata": {},
   "outputs": [],
   "source": [
    "pga = make_pipeline(\n",
    "    TangentSpace(metric=\"riemann\", tsupdate=False),\n",
    "    PCA(n_components=2)\n",
    ")\n",
    "\n",
    "ts_train = pga.fit_transform(cov_ext_trials)\n",
    "ts_means = pga.transform(np.array(mdm.covmeans_))"
   ]
  },
  {
   "cell_type": "code",
   "execution_count": 69,
   "metadata": {},
   "outputs": [],
   "source": [
    "clabel = ['left', 'right']\n",
    "cmap = plt.cm.winter\n",
    "\n",
    "def plot_pga(ax, data, labels, centers):\n",
    "    sc = ax.scatter(data[:, 0], data[:, 1], c=labels, marker='P', cmap=cmap)\n",
    "    ax.scatter(\n",
    "        centers[:, 0], centers[:, 1], c=np.array([0,1]), marker='o', s=100, cmap=cmap\n",
    "        )\n",
    "    ax.set(xlabel='PGA, 1st axis', ylabel='PGA, 2nd axis')\n",
    "    handles = [plt.Line2D([0], [0], marker='o', color='w', markerfacecolor=cmap(i/(len(clabel)-1)), markersize=10) for i in range(len(clabel))]\n",
    "    ax.legend(handles, clabel, loc='upper right')\n",
    "    return sc"
   ]
  },
  {
   "cell_type": "code",
   "execution_count": 70,
   "metadata": {},
   "outputs": [
    {
     "data": {
      "image/png": "[encoded data removed]",
      "text/plain": [
       "<Figure size 800x800 with 1 Axes>"
      ]
     },
     "metadata": {},
     "output_type": "display_data"
    }
   ],
   "source": [
    "fig, ax = plt.subplots(figsize=(8, 8))\n",
    "fig.suptitle('PGA of training set', fontsize=16)\n",
    "plot_pga(ax, ts_train, labels_MI_stage2, ts_means)\n",
    "plt.show()"
   ]
  }
 ],
 "metadata": {
  "kernelspec": {
   "display_name": "MIBCI",
   "language": "python",
   "name": "python3"
  },
  "language_info": {
   "codemirror_mode": {
    "name": "ipython",
    "version": 3
   },
   "file_extension": ".py",
   "mimetype": "text/x-python",
   "name": "python",
   "nbconvert_exporter": "python",
   "pygments_lexer": "ipython3",
   "version": "3.8.18"
  }
 },
 "nbformat": 4,
 "nbformat_minor": 2
}

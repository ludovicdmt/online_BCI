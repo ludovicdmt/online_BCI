{
 "cells": [
  {
   "cell_type": "code",
   "execution_count": 1,
   "metadata": {},
   "outputs": [],
   "source": [
    "import mne\n",
    "from mne.filter import construct_iir_filter\n",
    "from mne.preprocessing import annotate_muscle_zscore\n",
    "from meegkit.asr import ASR\n",
    "\n",
    "from pipeline.classifier_calib import get_TS_model, get_CSP_model, get_MDM_model, get_kernelTS_model, get_kernelCSP_model\n",
    "\n",
    "import pyxdf\n",
    "import numpy as np\n",
    "from scipy.linalg import sqrtm, inv \n",
    "import joblib\n",
    "import pickle\n",
    "\n",
    "\n",
    "from sklearn.svm import SVC\n",
    "from sklearn.linear_model import LogisticRegression\n",
    "from sklearn.model_selection import StratifiedShuffleSplit, GridSearchCV, cross_val_score, cross_val_predict, RepeatedStratifiedKFold\n",
    "from sklearn.pipeline import Pipeline\n",
    "from sklearn.metrics import confusion_matrix\n",
    "from pyriemann.estimation import Covariances\n",
    "from pyriemann.utils.mean import mean_covariance \n",
    "\n",
    "import seaborn as sns\n",
    "import pandas as pd\n",
    "import matplotlib.pyplot as plt    \n",
    "from autoreject import AutoReject "
   ]
  },
  {
   "cell_type": "code",
   "execution_count": 2,
   "metadata": {},
   "outputs": [],
   "source": [
    "def load_raw(fname):\n",
    "    streams, header = pyxdf.load_xdf(fname)\n",
    "    for idx, stream in enumerate(streams):\n",
    "            if stream['info']['type'][0] == 'EEG':\n",
    "                    eeg_stream = idx\n",
    "            elif stream['info']['name'][0] == 'MotorImageryMarkers':\n",
    "                    marker_stream = idx\n",
    "\n",
    "    data = streams[eeg_stream][\"time_series\"].T\n",
    "    #transformation from uV to V\n",
    "    data[:] *= 1e-6\n",
    "\n",
    "    # Retrieve the number of channels\n",
    "    ch_count = int(streams[eeg_stream]['info']['channel_count'][0])\n",
    "    # Retrieve the channel names\n",
    "    ch_names = [streams[eeg_stream]['info']['desc'][0]['channels'][0]['channel'][ch_nb]['label'][0] for ch_nb in range(ch_count)]\n",
    "\n",
    "    # electrode selection\n",
    "    # list_elect = [\"FC1\", \"Fz\", \"FC2\", \"C3\", \"Cz\", \"C4\", \"CP1\", \"Pz\", \"CP2\"]= [8,4,9,12,13,14,18,24,19]\n",
    "    if ch_count >9:\n",
    "        idx_ch = [8,4,9,12,13,14,18,24,19]\n",
    "        ch_names = np.array(ch_names)[idx_ch]\n",
    "        ch_count = len(ch_names)\n",
    "        data = data[idx_ch,:]\n",
    "\n",
    "    assert data.shape[0] == ch_count  # 8 channels\n",
    "    sfreq = float(streams[eeg_stream][\"info\"][\"nominal_srate\"][0])\n",
    "    info = mne.create_info(list(ch_names), sfreq, ['eeg'] * ch_count )\n",
    "    raw = mne.io.RawArray(data, info)\n",
    "    sfreq = raw.info['sfreq']\n",
    "    ## Preprocessing\n",
    "    low_boud = 8\n",
    "    high_boud=  45\n",
    "    iir_params = dict(order=30, ftype='butter', output='sos')  \n",
    "    iir_params = construct_iir_filter(iir_params, f_pass= [low_boud, high_boud], sfreq=sfreq, btype='bandpass', return_copy=True)\n",
    "    print((2 * len(iir_params['sos']), iir_params['padlen']))\n",
    "    raw = raw.filter(low_boud, high_boud, method='iir', iir_params=iir_params)\n",
    "    \n",
    "    #EEG re-ref\n",
    "    raw = raw.set_eeg_reference(ref_channels='average')\n",
    "\n",
    "    # Load markers\n",
    "    # get difference between EEG onset and onset of Triggers\n",
    "    eeg_onset = streams[eeg_stream][\"time_stamps\"][0] \n",
    "    end_idx = len(streams[marker_stream][\"time_stamps\"]) - 1\n",
    "    trigger_timestamps = streams[marker_stream][\"time_stamps\"][:end_idx] - eeg_onset\n",
    "\n",
    "    # get names of triggers (it's a nested list in the xdf file)    \n",
    "    # turn nested list into \"normal\" one dimensional list\n",
    "    trigger_descriptions = np.array(streams[marker_stream][\"time_series\"][:end_idx]).astype(int).ravel()\n",
    "\n",
    "    # save trigger descriptions & their onsets as annotations for our Raw object\n",
    "    triggers_annot = mne.Annotations(onset = trigger_timestamps, duration = 5., description = trigger_descriptions)\n",
    "\n",
    "    # The threshold is data dependent, check the optimal threshold by plotting\n",
    "    #  ``scores_muscle``.\n",
    "    threshold_muscle = 5  # z-score\n",
    "    # Choose one channel type, if there are axial gradiometers and magnetometers,\n",
    "    # # select magnetometers as they are more sensitive to muscle activity.\n",
    "    annot_muscle, scores_muscle = annotate_muscle_zscore(\n",
    "    raw,\n",
    "    ch_type='eeg',\n",
    "    threshold=threshold_muscle,\n",
    "    min_length_good=0.2,\n",
    "    filter_freq=[10, 40],\n",
    "    )\n",
    "    # Add trigger annotations to the Raw object that's already containing the EEG data\n",
    "    raw = raw.set_annotations(triggers_annot + annot_muscle )\n",
    "    standard_1020 = mne.channels.make_standard_montage(\"standard_1020\")\n",
    "    raw = raw.set_montage(standard_1020)\n",
    "\n",
    "    return raw\n"
   ]
  },
  {
   "cell_type": "code",
   "execution_count": 3,
   "metadata": {},
   "outputs": [],
   "source": [
    "def preprocess_data(fname):\n",
    "        raw = load_raw(fname)\n",
    "        print(raw.ch_names)\n",
    "\n",
    "        # MI left vs right data\n",
    "        events, event_id = mne.events_from_annotations(raw, verbose=\"warning\") \n",
    "        epochs = mne.Epochs(raw, events, tmin=0.5, tmax=3.5, \n",
    "                event_id=event_id, preload = True,  baseline=None) \n",
    "        ar = AutoReject(n_jobs=-1, n_interpolate=[0])\n",
    "        epochs = ar.fit_transform(epochs)\n",
    "        epochs_MI_stage2 = epochs.get_data(copy=False).astype(np.float64)[:,:,:-1] \n",
    "        epochs_MI_stage2 -= np.mean(epochs_MI_stage2, axis=-1, keepdims=True) # Centering\n",
    "        labels_MI_stage2 = epochs.events[:, -1] - 1  # 0, 1 instead of 1, 2\n",
    "\n",
    "        # Rebound data\n",
    "        epochs = mne.Epochs(raw, events, tmin=6.5, tmax=9.5, \n",
    "                event_id=event_id, preload = True, baseline=None, verbose = \"warning\") \n",
    "        ar = AutoReject(n_jobs=-1, n_interpolate=[0])\n",
    "        epochs = ar.fit_transform(epochs)\n",
    "        # Get rebound epochs and labels\n",
    "        epochs_rebound = epochs.get_data(copy=False).astype(np.float64)[:,:,:-1]\n",
    "        epochs_rebound -= np.mean(epochs_rebound, axis=-1, keepdims=True)  # Centering\n",
    "        labels_rebound = np.zeros(len(epochs_rebound)) # Rebound label is 0\n",
    "        epochs_MI_stage1 = np.copy(epochs_MI_stage2)#[idx]\n",
    "        labels_MI_stage1 =  np.zeros(len(epochs_MI_stage1)) + 1 # MI label is 1\n",
    "        # Combine MI and rebound epochs and labels\n",
    "        combined_epochs = np.concatenate((epochs_MI_stage1, epochs_rebound), axis=0)\n",
    "        combined_labels = np.concatenate((labels_MI_stage1, labels_rebound), axis=0).astype(int)\n",
    "\n",
    "        # Euclidean aligment\n",
    "        cov_matrices = Covariances(estimator='oas').fit_transform(combined_epochs)\n",
    "        refEA = mean_covariance(cov_matrices, metric='euclid')\n",
    "        R_inv = sqrtm(inv(refEA))\n",
    "        combined_epochs = np.einsum('ij,tjk->tik', R_inv, combined_epochs)\n",
    "        epochs_MI_stage2 = np.einsum('ij,tjk->tik', R_inv, epochs_MI_stage2)\n",
    "\n",
    "        return epochs_MI_stage2, labels_MI_stage2, combined_epochs, combined_labels"
   ]
  },
  {
   "cell_type": "code",
   "execution_count": 4,
   "metadata": {},
   "outputs": [
    {
     "name": "stdout",
     "output_type": "stream",
     "text": [
      "Creating RawArray with float64 data, n_channels=9, n_times=316140\n",
      "    Range : 0 ... 316139 =      0.000 ...  1264.556 secs\n",
      "Ready.\n",
      "\n",
      "IIR filter parameters\n",
      "---------------------\n",
      "Butterworth bandpass zero-phase (two-pass forward and reverse) non-causal filter:\n",
      "- Filter order 120 (effective, after forward-backward)\n",
      "- Cutoffs at 8.00, 45.00 Hz: -6.02, -6.02 dB\n",
      "\n",
      "(60, 724)\n",
      "Filtering raw data in 1 contiguous segment\n",
      "Setting up band-pass filter from 8 - 45 Hz\n",
      "\n",
      "EEG channel type selected for re-referencing\n",
      "Applying average reference.\n",
      "Applying a custom ('EEG',) reference.\n",
      "{'eeg': True, 'meg': False}\n",
      "NOTE: pick_types() is a legacy function. New code should use inst.pick(...).\n",
      "Filtering raw data in 1 contiguous segment\n",
      "Setting up band-pass filter from 10 - 40 Hz\n",
      "\n",
      "FIR filter parameters\n",
      "---------------------\n",
      "Designing a one-pass, zero-phase, non-causal bandpass filter:\n",
      "- Windowed time-domain design (firwin) method\n",
      "- Hamming window with 0.0194 passband ripple and 53 dB stopband attenuation\n",
      "- Lower passband edge: 10.00\n",
      "- Lower transition bandwidth: 2.50 Hz (-6 dB cutoff frequency: 8.75 Hz)\n",
      "- Upper passband edge: 40.00 Hz\n",
      "- Upper transition bandwidth: 10.00 Hz (-6 dB cutoff frequency: 45.00 Hz)\n",
      "- Filter length: 331 samples (1.324 s)\n",
      "\n"
     ]
    },
    {
     "name": "stderr",
     "output_type": "stream",
     "text": [
      "[Parallel(n_jobs=1)]: Using backend SequentialBackend with 1 concurrent workers.\n",
      "[Parallel(n_jobs=1)]: Done   1 out of   1 | elapsed:    0.0s remaining:    0.0s\n",
      "[Parallel(n_jobs=1)]: Done   2 out of   2 | elapsed:    0.0s remaining:    0.0s\n",
      "[Parallel(n_jobs=1)]: Done   3 out of   3 | elapsed:    0.0s remaining:    0.0s\n",
      "[Parallel(n_jobs=1)]: Done   4 out of   4 | elapsed:    0.0s remaining:    0.0s\n",
      "[Parallel(n_jobs=1)]: Done   9 out of   9 | elapsed:    0.0s finished\n"
     ]
    },
    {
     "name": "stdout",
     "output_type": "stream",
     "text": [
      "Setting up low-pass filter at 4 Hz\n",
      "\n",
      "FIR filter parameters\n",
      "---------------------\n",
      "Designing a one-pass, zero-phase, non-causal lowpass filter:\n",
      "- Windowed time-domain design (firwin) method\n",
      "- Hamming window with 0.0194 passband ripple and 53 dB stopband attenuation\n",
      "- Upper passband edge: 4.00 Hz\n",
      "- Upper transition bandwidth: 2.00 Hz (-6 dB cutoff frequency: 5.00 Hz)\n",
      "- Filter length: 413 samples (1.652 s)\n",
      "\n",
      "['FC1', 'Fz', 'FC2', 'C3', 'Cz', 'C4', 'CP1', 'Pz', 'CP2']\n",
      "Not setting metadata\n",
      "35 matching events found\n",
      "No baseline correction applied\n",
      "0 projection items activated\n",
      "Using data from preloaded Raw for 35 events and 751 original time points ...\n",
      "5 bad epochs dropped\n",
      "Running autoreject on ch_type=eeg\n"
     ]
    },
    {
     "name": "stderr",
     "output_type": "stream",
     "text": [
      "[Parallel(n_jobs=1)]: Using backend SequentialBackend with 1 concurrent workers.\n",
      "[Parallel(n_jobs=1)]: Done   1 out of   1 | elapsed:    0.0s remaining:    0.0s\n",
      "[Parallel(n_jobs=1)]: Done   1 out of   1 | elapsed:    0.0s finished\n"
     ]
    },
    {
     "data": {
      "application/vnd.jupyter.widget-view+json": {
       "model_id": "a3e06c2dae6c4c31b97f1cd557c9d7ca",
       "version_major": 2,
       "version_minor": 0
      },
      "text/plain": [
       "  0%|          | Creating augmented epochs : 0/9 [00:00<?,       ?it/s]"
      ]
     },
     "metadata": {},
     "output_type": "display_data"
    },
    {
     "data": {
      "application/vnd.jupyter.widget-view+json": {
       "model_id": "d323f58d21b145779a6ba4f3cd1119f3",
       "version_major": 2,
       "version_minor": 0
      },
      "text/plain": [
       "  0%|          | Computing thresholds ... : 0/9 [00:00<?,       ?it/s]"
      ]
     },
     "metadata": {},
     "output_type": "display_data"
    },
    {
     "data": {
      "application/vnd.jupyter.widget-view+json": {
       "model_id": "bff5e64f8c604ea88ebeea071f655359",
       "version_major": 2,
       "version_minor": 0
      },
      "text/plain": [
       "  0%|          | Repairing epochs : 0/30 [00:00<?,       ?it/s]"
      ]
     },
     "metadata": {},
     "output_type": "display_data"
    },
    {
     "data": {
      "application/vnd.jupyter.widget-view+json": {
       "model_id": "ef7668eff0914d2bbf3cac7a2a63224d",
       "version_major": 2,
       "version_minor": 0
      },
      "text/plain": [
       "  0%|          | n_interp : 0/1 [00:00<?,       ?it/s]"
      ]
     },
     "metadata": {},
     "output_type": "display_data"
    },
    {
     "data": {
      "application/vnd.jupyter.widget-view+json": {
       "model_id": "6bd9bea007d441309646e7fcaf85f2c8",
       "version_major": 2,
       "version_minor": 0
      },
      "text/plain": [
       "  0%|          | Repairing epochs : 0/30 [00:00<?,       ?it/s]"
      ]
     },
     "metadata": {},
     "output_type": "display_data"
    },
    {
     "data": {
      "application/vnd.jupyter.widget-view+json": {
       "model_id": "9dd1664ad8cc448c97a4ba3d5b116112",
       "version_major": 2,
       "version_minor": 0
      },
      "text/plain": [
       "  0%|          | Fold : 0/10 [00:00<?,       ?it/s]"
      ]
     },
     "metadata": {},
     "output_type": "display_data"
    },
    {
     "name": "stdout",
     "output_type": "stream",
     "text": [
      "\n",
      "\n",
      "\n",
      "\n",
      "Estimated consensus=0.50 and n_interpolate=0\n"
     ]
    },
    {
     "data": {
      "application/vnd.jupyter.widget-view+json": {
       "model_id": "bc301fca0c8f4f89a8654ed26bcbf6ca",
       "version_major": 2,
       "version_minor": 0
      },
      "text/plain": [
       "  0%|          | Repairing epochs : 0/30 [00:00<?,       ?it/s]"
      ]
     },
     "metadata": {},
     "output_type": "display_data"
    },
    {
     "name": "stdout",
     "output_type": "stream",
     "text": [
      "No bad epochs were found for your data. Returning a copy of the data you wanted to clean. Interpolation may have been done.\n",
      "Running autoreject on ch_type=eeg\n"
     ]
    },
    {
     "data": {
      "application/vnd.jupyter.widget-view+json": {
       "model_id": "964827fc511140ed8287fb7af38d5199",
       "version_major": 2,
       "version_minor": 0
      },
      "text/plain": [
       "  0%|          | Creating augmented epochs : 0/9 [00:00<?,       ?it/s]"
      ]
     },
     "metadata": {},
     "output_type": "display_data"
    },
    {
     "data": {
      "application/vnd.jupyter.widget-view+json": {
       "model_id": "c4ef44724e6947c09f24687a95ea5394",
       "version_major": 2,
       "version_minor": 0
      },
      "text/plain": [
       "  0%|          | Computing thresholds ... : 0/9 [00:00<?,       ?it/s]"
      ]
     },
     "metadata": {},
     "output_type": "display_data"
    },
    {
     "data": {
      "application/vnd.jupyter.widget-view+json": {
       "model_id": "eeb07abe7245495ab5ddfb0436d2bd28",
       "version_major": 2,
       "version_minor": 0
      },
      "text/plain": [
       "  0%|          | Repairing epochs : 0/27 [00:00<?,       ?it/s]"
      ]
     },
     "metadata": {},
     "output_type": "display_data"
    },
    {
     "data": {
      "application/vnd.jupyter.widget-view+json": {
       "model_id": "05c532920a994a83bf4cdcfa95ead94c",
       "version_major": 2,
       "version_minor": 0
      },
      "text/plain": [
       "  0%|          | n_interp : 0/1 [00:00<?,       ?it/s]"
      ]
     },
     "metadata": {},
     "output_type": "display_data"
    },
    {
     "data": {
      "application/vnd.jupyter.widget-view+json": {
       "model_id": "18525f6e29f54e3c87a16828534a42e4",
       "version_major": 2,
       "version_minor": 0
      },
      "text/plain": [
       "  0%|          | Repairing epochs : 0/27 [00:00<?,       ?it/s]"
      ]
     },
     "metadata": {},
     "output_type": "display_data"
    },
    {
     "data": {
      "application/vnd.jupyter.widget-view+json": {
       "model_id": "a63eac2e9a834996a99456a7c56a707a",
       "version_major": 2,
       "version_minor": 0
      },
      "text/plain": [
       "  0%|          | Fold : 0/10 [00:00<?,       ?it/s]"
      ]
     },
     "metadata": {},
     "output_type": "display_data"
    },
    {
     "name": "stdout",
     "output_type": "stream",
     "text": [
      "\n",
      "\n",
      "\n",
      "\n",
      "Estimated consensus=0.70 and n_interpolate=0\n"
     ]
    },
    {
     "data": {
      "application/vnd.jupyter.widget-view+json": {
       "model_id": "ee2ba4fd681d443aa6d1647b03a67502",
       "version_major": 2,
       "version_minor": 0
      },
      "text/plain": [
       "  0%|          | Repairing epochs : 0/27 [00:00<?,       ?it/s]"
      ]
     },
     "metadata": {},
     "output_type": "display_data"
    },
    {
     "name": "stdout",
     "output_type": "stream",
     "text": [
      "No bad epochs were found for your data. Returning a copy of the data you wanted to clean. Interpolation may have been done.\n",
      "Creating RawArray with float64 data, n_channels=9, n_times=69780\n",
      "    Range : 0 ... 69779 =      0.000 ...   279.116 secs\n",
      "Ready.\n",
      "\n",
      "IIR filter parameters\n",
      "---------------------\n",
      "Butterworth bandpass zero-phase (two-pass forward and reverse) non-causal filter:\n",
      "- Filter order 120 (effective, after forward-backward)\n",
      "- Cutoffs at 8.00, 45.00 Hz: -6.02, -6.02 dB\n",
      "\n",
      "(60, 724)\n",
      "Filtering raw data in 1 contiguous segment\n",
      "Setting up band-pass filter from 8 - 45 Hz\n",
      "\n",
      "EEG channel type selected for re-referencing\n",
      "Applying average reference.\n",
      "Applying a custom ('EEG',) reference.\n",
      "{'eeg': True, 'meg': False}\n",
      "NOTE: pick_types() is a legacy function. New code should use inst.pick(...).\n",
      "Filtering raw data in 1 contiguous segment\n",
      "Setting up band-pass filter from 10 - 40 Hz\n",
      "\n",
      "FIR filter parameters\n",
      "---------------------\n",
      "Designing a one-pass, zero-phase, non-causal bandpass filter:\n",
      "- Windowed time-domain design (firwin) method\n",
      "- Hamming window with 0.0194 passband ripple and 53 dB stopband attenuation\n",
      "- Lower passband edge: 10.00\n",
      "- Lower transition bandwidth: 2.50 Hz (-6 dB cutoff frequency: 8.75 Hz)\n",
      "- Upper passband edge: 40.00 Hz\n",
      "- Upper transition bandwidth: 10.00 Hz (-6 dB cutoff frequency: 45.00 Hz)\n",
      "- Filter length: 331 samples (1.324 s)\n",
      "\n",
      "Setting up low-pass filter at 4 Hz\n",
      "\n",
      "FIR filter parameters\n",
      "---------------------\n",
      "Designing a one-pass, zero-phase, non-causal lowpass filter:\n",
      "- Windowed time-domain design (firwin) method\n",
      "- Hamming window with 0.0194 passband ripple and 53 dB stopband attenuation\n",
      "- Upper passband edge: 4.00 Hz\n",
      "- Upper transition bandwidth: 2.00 Hz (-6 dB cutoff frequency: 5.00 Hz)\n",
      "- Filter length: 413 samples (1.652 s)\n",
      "\n",
      "['FC1', 'Fz', 'FC2', 'C3', 'Cz', 'C4', 'CP1', 'Pz', 'CP2']\n",
      "Not setting metadata\n",
      "20 matching events found\n",
      "No baseline correction applied\n",
      "0 projection items activated\n",
      "Using data from preloaded Raw for 20 events and 751 original time points ...\n",
      "3 bad epochs dropped\n",
      "Running autoreject on ch_type=eeg\n"
     ]
    },
    {
     "name": "stderr",
     "output_type": "stream",
     "text": [
      "[Parallel(n_jobs=1)]: Using backend SequentialBackend with 1 concurrent workers.\n",
      "[Parallel(n_jobs=1)]: Done   1 out of   1 | elapsed:    0.0s remaining:    0.0s\n",
      "[Parallel(n_jobs=1)]: Done   2 out of   2 | elapsed:    0.0s remaining:    0.0s\n",
      "[Parallel(n_jobs=1)]: Done   3 out of   3 | elapsed:    0.0s remaining:    0.0s\n",
      "[Parallel(n_jobs=1)]: Done   4 out of   4 | elapsed:    0.0s remaining:    0.0s\n",
      "[Parallel(n_jobs=1)]: Done   9 out of   9 | elapsed:    0.0s finished\n",
      "[Parallel(n_jobs=1)]: Using backend SequentialBackend with 1 concurrent workers.\n",
      "[Parallel(n_jobs=1)]: Done   1 out of   1 | elapsed:    0.0s remaining:    0.0s\n",
      "[Parallel(n_jobs=1)]: Done   1 out of   1 | elapsed:    0.0s finished\n"
     ]
    },
    {
     "data": {
      "application/vnd.jupyter.widget-view+json": {
       "model_id": "ceffaa31afcd4faeb44c90393bf19929",
       "version_major": 2,
       "version_minor": 0
      },
      "text/plain": [
       "  0%|          | Creating augmented epochs : 0/9 [00:00<?,       ?it/s]"
      ]
     },
     "metadata": {},
     "output_type": "display_data"
    },
    {
     "data": {
      "application/vnd.jupyter.widget-view+json": {
       "model_id": "c4e52e418bce4e42ba3c0db4c8b2b5c0",
       "version_major": 2,
       "version_minor": 0
      },
      "text/plain": [
       "  0%|          | Computing thresholds ... : 0/9 [00:00<?,       ?it/s]"
      ]
     },
     "metadata": {},
     "output_type": "display_data"
    },
    {
     "data": {
      "application/vnd.jupyter.widget-view+json": {
       "model_id": "af449b673a714aa096e3d39a3e860050",
       "version_major": 2,
       "version_minor": 0
      },
      "text/plain": [
       "  0%|          | Repairing epochs : 0/17 [00:00<?,       ?it/s]"
      ]
     },
     "metadata": {},
     "output_type": "display_data"
    },
    {
     "data": {
      "application/vnd.jupyter.widget-view+json": {
       "model_id": "9e0fe969d4be4d58afc002bb16e1bb62",
       "version_major": 2,
       "version_minor": 0
      },
      "text/plain": [
       "  0%|          | n_interp : 0/1 [00:00<?,       ?it/s]"
      ]
     },
     "metadata": {},
     "output_type": "display_data"
    },
    {
     "data": {
      "application/vnd.jupyter.widget-view+json": {
       "model_id": "7a71c76e83b44eb387f7badf604105c1",
       "version_major": 2,
       "version_minor": 0
      },
      "text/plain": [
       "  0%|          | Repairing epochs : 0/17 [00:00<?,       ?it/s]"
      ]
     },
     "metadata": {},
     "output_type": "display_data"
    },
    {
     "data": {
      "application/vnd.jupyter.widget-view+json": {
       "model_id": "92727664b15b4357819e931ad216bf62",
       "version_major": 2,
       "version_minor": 0
      },
      "text/plain": [
       "  0%|          | Fold : 0/10 [00:00<?,       ?it/s]"
      ]
     },
     "metadata": {},
     "output_type": "display_data"
    },
    {
     "name": "stdout",
     "output_type": "stream",
     "text": [
      "\n",
      "\n",
      "\n",
      "\n",
      "Estimated consensus=0.60 and n_interpolate=0\n"
     ]
    },
    {
     "data": {
      "application/vnd.jupyter.widget-view+json": {
       "model_id": "b2217327b6714535946103abedae5d7c",
       "version_major": 2,
       "version_minor": 0
      },
      "text/plain": [
       "  0%|          | Repairing epochs : 0/17 [00:00<?,       ?it/s]"
      ]
     },
     "metadata": {},
     "output_type": "display_data"
    },
    {
     "name": "stdout",
     "output_type": "stream",
     "text": [
      "No bad epochs were found for your data. Returning a copy of the data you wanted to clean. Interpolation may have been done.\n",
      "Running autoreject on ch_type=eeg\n"
     ]
    },
    {
     "data": {
      "application/vnd.jupyter.widget-view+json": {
       "model_id": "435b6cc721cf46fb87ce18a55306d3b1",
       "version_major": 2,
       "version_minor": 0
      },
      "text/plain": [
       "  0%|          | Creating augmented epochs : 0/9 [00:00<?,       ?it/s]"
      ]
     },
     "metadata": {},
     "output_type": "display_data"
    },
    {
     "data": {
      "application/vnd.jupyter.widget-view+json": {
       "model_id": "ab4937a77ed3411eac85b7cef3682ea2",
       "version_major": 2,
       "version_minor": 0
      },
      "text/plain": [
       "  0%|          | Computing thresholds ... : 0/9 [00:00<?,       ?it/s]"
      ]
     },
     "metadata": {},
     "output_type": "display_data"
    },
    {
     "data": {
      "application/vnd.jupyter.widget-view+json": {
       "model_id": "96d600e90a1e4aa681d7157b26dc12fa",
       "version_major": 2,
       "version_minor": 0
      },
      "text/plain": [
       "  0%|          | Repairing epochs : 0/16 [00:00<?,       ?it/s]"
      ]
     },
     "metadata": {},
     "output_type": "display_data"
    },
    {
     "data": {
      "application/vnd.jupyter.widget-view+json": {
       "model_id": "209333b41aae483e8cd95a986e506a83",
       "version_major": 2,
       "version_minor": 0
      },
      "text/plain": [
       "  0%|          | n_interp : 0/1 [00:00<?,       ?it/s]"
      ]
     },
     "metadata": {},
     "output_type": "display_data"
    },
    {
     "data": {
      "application/vnd.jupyter.widget-view+json": {
       "model_id": "7ba8da39e45a456dbb7aa39cee390aff",
       "version_major": 2,
       "version_minor": 0
      },
      "text/plain": [
       "  0%|          | Repairing epochs : 0/16 [00:00<?,       ?it/s]"
      ]
     },
     "metadata": {},
     "output_type": "display_data"
    },
    {
     "data": {
      "application/vnd.jupyter.widget-view+json": {
       "model_id": "83d712b57efc4f3a944e091bdbb6f4e1",
       "version_major": 2,
       "version_minor": 0
      },
      "text/plain": [
       "  0%|          | Fold : 0/10 [00:00<?,       ?it/s]"
      ]
     },
     "metadata": {},
     "output_type": "display_data"
    },
    {
     "name": "stdout",
     "output_type": "stream",
     "text": [
      "\n",
      "\n",
      "\n",
      "\n",
      "Estimated consensus=0.70 and n_interpolate=0\n"
     ]
    },
    {
     "data": {
      "application/vnd.jupyter.widget-view+json": {
       "model_id": "f5505158640e4d1286e83a288164b767",
       "version_major": 2,
       "version_minor": 0
      },
      "text/plain": [
       "  0%|          | Repairing epochs : 0/16 [00:00<?,       ?it/s]"
      ]
     },
     "metadata": {},
     "output_type": "display_data"
    },
    {
     "name": "stdout",
     "output_type": "stream",
     "text": [
      "No bad epochs were found for your data. Returning a copy of the data you wanted to clean. Interpolation may have been done.\n",
      "Creating RawArray with float64 data, n_channels=9, n_times=128130\n",
      "    Range : 0 ... 128129 =      0.000 ...   512.516 secs\n",
      "Ready.\n",
      "\n",
      "IIR filter parameters\n",
      "---------------------\n",
      "Butterworth bandpass zero-phase (two-pass forward and reverse) non-causal filter:\n",
      "- Filter order 120 (effective, after forward-backward)\n",
      "- Cutoffs at 8.00, 45.00 Hz: -6.02, -6.02 dB\n",
      "\n",
      "(60, 724)\n",
      "Filtering raw data in 1 contiguous segment\n",
      "Setting up band-pass filter from 8 - 45 Hz\n",
      "\n",
      "EEG channel type selected for re-referencing\n",
      "Applying average reference.\n",
      "Applying a custom ('EEG',) reference.\n",
      "{'eeg': True, 'meg': False}\n",
      "NOTE: pick_types() is a legacy function. New code should use inst.pick(...).\n",
      "Filtering raw data in 1 contiguous segment\n",
      "Setting up band-pass filter from 10 - 40 Hz\n",
      "\n",
      "FIR filter parameters\n",
      "---------------------\n",
      "Designing a one-pass, zero-phase, non-causal bandpass filter:\n",
      "- Windowed time-domain design (firwin) method\n",
      "- Hamming window with 0.0194 passband ripple and 53 dB stopband attenuation\n",
      "- Lower passband edge: 10.00\n",
      "- Lower transition bandwidth: 2.50 Hz (-6 dB cutoff frequency: 8.75 Hz)\n",
      "- Upper passband edge: 40.00 Hz\n",
      "- Upper transition bandwidth: 10.00 Hz (-6 dB cutoff frequency: 45.00 Hz)\n",
      "- Filter length: 331 samples (1.324 s)\n",
      "\n",
      "Setting up low-pass filter at 4 Hz\n",
      "\n",
      "FIR filter parameters\n",
      "---------------------\n",
      "Designing a one-pass, zero-phase, non-causal lowpass filter:\n",
      "- Windowed time-domain design (firwin) method\n",
      "- Hamming window with 0.0194 passband ripple and 53 dB stopband attenuation\n",
      "- Upper passband edge: 4.00 Hz\n",
      "- Upper transition bandwidth: 2.00 Hz (-6 dB cutoff frequency: 5.00 Hz)\n",
      "- Filter length: 413 samples (1.652 s)\n",
      "\n",
      "['FC1', 'Fz', 'FC2', 'C3', 'Cz', 'C4', 'CP1', 'Pz', 'CP2']\n",
      "Not setting metadata\n",
      "30 matching events found\n",
      "No baseline correction applied\n",
      "0 projection items activated\n",
      "Using data from preloaded Raw for 30 events and 751 original time points ...\n",
      "2 bad epochs dropped\n",
      "Running autoreject on ch_type=eeg\n"
     ]
    },
    {
     "name": "stderr",
     "output_type": "stream",
     "text": [
      "[Parallel(n_jobs=1)]: Using backend SequentialBackend with 1 concurrent workers.\n",
      "[Parallel(n_jobs=1)]: Done   1 out of   1 | elapsed:    0.0s remaining:    0.0s\n",
      "[Parallel(n_jobs=1)]: Done   2 out of   2 | elapsed:    0.0s remaining:    0.0s\n",
      "[Parallel(n_jobs=1)]: Done   3 out of   3 | elapsed:    0.0s remaining:    0.0s\n",
      "[Parallel(n_jobs=1)]: Done   4 out of   4 | elapsed:    0.0s remaining:    0.0s\n",
      "[Parallel(n_jobs=1)]: Done   9 out of   9 | elapsed:    0.0s finished\n",
      "[Parallel(n_jobs=1)]: Using backend SequentialBackend with 1 concurrent workers.\n",
      "[Parallel(n_jobs=1)]: Done   1 out of   1 | elapsed:    0.0s remaining:    0.0s\n",
      "[Parallel(n_jobs=1)]: Done   1 out of   1 | elapsed:    0.0s finished\n"
     ]
    },
    {
     "data": {
      "application/vnd.jupyter.widget-view+json": {
       "model_id": "847210e3b70549f78e56cd3ac1953e40",
       "version_major": 2,
       "version_minor": 0
      },
      "text/plain": [
       "  0%|          | Creating augmented epochs : 0/9 [00:00<?,       ?it/s]"
      ]
     },
     "metadata": {},
     "output_type": "display_data"
    },
    {
     "data": {
      "application/vnd.jupyter.widget-view+json": {
       "model_id": "2004ea720f644593b80a1ef202347a7d",
       "version_major": 2,
       "version_minor": 0
      },
      "text/plain": [
       "  0%|          | Computing thresholds ... : 0/9 [00:00<?,       ?it/s]"
      ]
     },
     "metadata": {},
     "output_type": "display_data"
    },
    {
     "data": {
      "application/vnd.jupyter.widget-view+json": {
       "model_id": "ec2a477039314edf89741802e762187e",
       "version_major": 2,
       "version_minor": 0
      },
      "text/plain": [
       "  0%|          | Repairing epochs : 0/28 [00:00<?,       ?it/s]"
      ]
     },
     "metadata": {},
     "output_type": "display_data"
    },
    {
     "data": {
      "application/vnd.jupyter.widget-view+json": {
       "model_id": "bcfe8747a71d4fe7bbf66a8302dea493",
       "version_major": 2,
       "version_minor": 0
      },
      "text/plain": [
       "  0%|          | n_interp : 0/1 [00:00<?,       ?it/s]"
      ]
     },
     "metadata": {},
     "output_type": "display_data"
    },
    {
     "data": {
      "application/vnd.jupyter.widget-view+json": {
       "model_id": "2e0d3a8bf903402bb988903694f484d8",
       "version_major": 2,
       "version_minor": 0
      },
      "text/plain": [
       "  0%|          | Repairing epochs : 0/28 [00:00<?,       ?it/s]"
      ]
     },
     "metadata": {},
     "output_type": "display_data"
    },
    {
     "data": {
      "application/vnd.jupyter.widget-view+json": {
       "model_id": "b4d948afe97f4f22ab957355cb9d4db0",
       "version_major": 2,
       "version_minor": 0
      },
      "text/plain": [
       "  0%|          | Fold : 0/10 [00:00<?,       ?it/s]"
      ]
     },
     "metadata": {},
     "output_type": "display_data"
    },
    {
     "name": "stdout",
     "output_type": "stream",
     "text": [
      "\n",
      "\n",
      "\n",
      "\n",
      "Estimated consensus=0.50 and n_interpolate=0\n"
     ]
    },
    {
     "data": {
      "application/vnd.jupyter.widget-view+json": {
       "model_id": "304fa991c06d45919614577413e25b21",
       "version_major": 2,
       "version_minor": 0
      },
      "text/plain": [
       "  0%|          | Repairing epochs : 0/28 [00:00<?,       ?it/s]"
      ]
     },
     "metadata": {},
     "output_type": "display_data"
    },
    {
     "name": "stdout",
     "output_type": "stream",
     "text": [
      "No bad epochs were found for your data. Returning a copy of the data you wanted to clean. Interpolation may have been done.\n",
      "Running autoreject on ch_type=eeg\n"
     ]
    },
    {
     "data": {
      "application/vnd.jupyter.widget-view+json": {
       "model_id": "2da433755d8f495eb1194c754fb76f02",
       "version_major": 2,
       "version_minor": 0
      },
      "text/plain": [
       "  0%|          | Creating augmented epochs : 0/9 [00:00<?,       ?it/s]"
      ]
     },
     "metadata": {},
     "output_type": "display_data"
    },
    {
     "data": {
      "application/vnd.jupyter.widget-view+json": {
       "model_id": "efa2d55db3b54c1d9140c3066d0deac6",
       "version_major": 2,
       "version_minor": 0
      },
      "text/plain": [
       "  0%|          | Computing thresholds ... : 0/9 [00:00<?,       ?it/s]"
      ]
     },
     "metadata": {},
     "output_type": "display_data"
    },
    {
     "data": {
      "application/vnd.jupyter.widget-view+json": {
       "model_id": "8317308cff804b5281e98b1b263353e5",
       "version_major": 2,
       "version_minor": 0
      },
      "text/plain": [
       "  0%|          | Repairing epochs : 0/30 [00:00<?,       ?it/s]"
      ]
     },
     "metadata": {},
     "output_type": "display_data"
    },
    {
     "data": {
      "application/vnd.jupyter.widget-view+json": {
       "model_id": "c9a3ff505f8b4a45b70d63f41675c194",
       "version_major": 2,
       "version_minor": 0
      },
      "text/plain": [
       "  0%|          | n_interp : 0/1 [00:00<?,       ?it/s]"
      ]
     },
     "metadata": {},
     "output_type": "display_data"
    },
    {
     "data": {
      "application/vnd.jupyter.widget-view+json": {
       "model_id": "59a558bc5d9940c7bb53ff1d18622dc7",
       "version_major": 2,
       "version_minor": 0
      },
      "text/plain": [
       "  0%|          | Repairing epochs : 0/30 [00:00<?,       ?it/s]"
      ]
     },
     "metadata": {},
     "output_type": "display_data"
    },
    {
     "data": {
      "application/vnd.jupyter.widget-view+json": {
       "model_id": "69cb00c62c26442d8db7578a11b174e0",
       "version_major": 2,
       "version_minor": 0
      },
      "text/plain": [
       "  0%|          | Fold : 0/10 [00:00<?,       ?it/s]"
      ]
     },
     "metadata": {},
     "output_type": "display_data"
    },
    {
     "name": "stdout",
     "output_type": "stream",
     "text": [
      "\n",
      "\n",
      "\n",
      "\n",
      "Estimated consensus=0.70 and n_interpolate=0\n"
     ]
    },
    {
     "data": {
      "application/vnd.jupyter.widget-view+json": {
       "model_id": "5f8db0125afc439190effc8129ac13b3",
       "version_major": 2,
       "version_minor": 0
      },
      "text/plain": [
       "  0%|          | Repairing epochs : 0/30 [00:00<?,       ?it/s]"
      ]
     },
     "metadata": {},
     "output_type": "display_data"
    },
    {
     "name": "stdout",
     "output_type": "stream",
     "text": [
      "No bad epochs were found for your data. Returning a copy of the data you wanted to clean. Interpolation may have been done.\n"
     ]
    }
   ],
   "source": [
    "# fname = 'C:\\\\Users\\\\ludov\\\\Documents\\\\pre_tests\\\\S1\\\\0718\\\\calib_jaw.xdf'\n",
    "# epochs_MI_stage2, labels_MI_stage2, combined_epochs, combined_labels = preprocess_data(fname)\n",
    "\n",
    "# fname = 'C:\\\\Users\\\\ludov\\\\Documents\\\\pre_tests\\\\S1\\\\0716\\\\calib_jaw.xdf'\n",
    "# epochs_MI_stage2_21, labels_MI_stage2_21, combined_epochs_21, combined_labels_21 = preprocess_data(fname)\n",
    "\n",
    "fname = 'C:\\\\Users\\\\ludov\\\\Documents\\\\pre_tests\\\\S1\\\\0807\\\\calib_legs.xdf'\n",
    "epochs_MI_stage2, labels_MI_stage2, combined_epochs, combined_labels = preprocess_data(fname)\n",
    "\n",
    "fname = 'C:\\\\Users\\\\ludov\\\\Documents\\\\pre_tests\\\\S1\\\\0912\\\\calib_legs.xdf'\n",
    "epochs_MI_stage2_21, labels_MI_stage2_21, combined_epochs_21, combined_labels_21 = preprocess_data(fname)\n",
    "\n",
    "fname = 'C:\\\\Users\\\\ludov\\\\Documents\\\\pre_tests\\\\S1\\\\0916\\\\calib_legs.xdf'\n",
    "epochs_MI_stage2_22, labels_MI_stage2_22, combined_epochs_22, combined_labels_22 = preprocess_data(fname)\n",
    "\n",
    "cmd = \"forward\""
   ]
  },
  {
   "cell_type": "markdown",
   "metadata": {},
   "source": [
    "## Gather data from two different sessions"
   ]
  },
  {
   "cell_type": "code",
   "execution_count": 5,
   "metadata": {},
   "outputs": [],
   "source": [
    "def unison_shuffled_copies(a, b):\n",
    "    assert len(a) == len(b)\n",
    "    p = np.random.permutation(len(a))\n",
    "    return a[p], b[p]"
   ]
  },
  {
   "cell_type": "code",
   "execution_count": 6,
   "metadata": {},
   "outputs": [
    {
     "name": "stdout",
     "output_type": "stream",
     "text": [
      "(57, 9, 750) (33, 9, 750)\n",
      "(30, 9, 750) (17, 9, 750)\n",
      "(148, 9, 750)\n",
      "(75, 9, 750)\n"
     ]
    }
   ],
   "source": [
    "print(combined_epochs.shape, combined_epochs_21.shape)\n",
    "print(epochs_MI_stage2.shape, epochs_MI_stage2_21.shape)\n",
    "\n",
    "combined_epochs = np.concatenate((combined_epochs, combined_epochs_21,  combined_epochs_22), axis=0) \n",
    "combined_labels = np.concatenate((combined_labels, combined_labels_21, combined_labels_22), axis=0)\n",
    "\n",
    "\n",
    "epochs_MI_stage2 = np.concatenate((epochs_MI_stage2, epochs_MI_stage2_21, epochs_MI_stage2_22), axis=0) \n",
    "labels_MI_stage2 = np.concatenate((labels_MI_stage2, labels_MI_stage2_21, labels_MI_stage2_22), axis=0) \n",
    "\n",
    "epochs_MI_stage2, labels_MI_stage2 = unison_shuffled_copies(epochs_MI_stage2, labels_MI_stage2)\n",
    "combined_epochs, combined_labels = unison_shuffled_copies(combined_epochs, combined_labels)\n",
    "print(combined_epochs.shape)\n",
    "print(epochs_MI_stage2.shape)"
   ]
  },
  {
   "cell_type": "code",
   "execution_count": 7,
   "metadata": {},
   "outputs": [],
   "source": [
    "# Function to under-sample the majority class\n",
    "def undersample_data(epochs, labels):\n",
    "    # Separate the classes\n",
    "    class_0_indices = np.where(labels == 0)[0]\n",
    "    class_1_indices = np.where(labels == 1)[0]\n",
    "    \n",
    "    # Determine the smaller class size\n",
    "    min_class_size = min(len(class_0_indices), len(class_1_indices))\n",
    "    \n",
    "    # Randomly sample from both classes\n",
    "    np.random.seed(42)  # For reproducibility\n",
    "    undersampled_class_0_indices = np.random.choice(class_0_indices, min_class_size, replace=False)\n",
    "    undersampled_class_1_indices = np.random.choice(class_1_indices, min_class_size, replace=False)\n",
    "    \n",
    "    # Combine the sampled indices\n",
    "    undersampled_indices = np.concatenate([undersampled_class_0_indices, undersampled_class_1_indices])\n",
    "    \n",
    "    # Shuffle the indices to mix class samples\n",
    "    np.random.shuffle(undersampled_indices)\n",
    "    \n",
    "    # Extract the undersampled data and labels\n",
    "    undersampled_epochs = epochs[undersampled_indices]\n",
    "    undersampled_labels = labels[undersampled_indices]\n",
    "    \n",
    "    return undersampled_epochs, undersampled_labels\n"
   ]
  },
  {
   "cell_type": "code",
   "execution_count": 8,
   "metadata": {},
   "outputs": [
    {
     "name": "stdout",
     "output_type": "stream",
     "text": [
      "Original dataset size: 75 trials\n",
      "Balanced dataset size: 0 trials\n",
      "Class distribution in balanced dataset: []\n",
      "Original dataset size: 148 trials\n",
      "Balanced dataset size: 146 trials\n",
      "Class distribution in balanced dataset: [73 73]\n"
     ]
    }
   ],
   "source": [
    "print(f'Original dataset size: {epochs_MI_stage2.shape[0]} trials')\n",
    "epochs_MI_stage2, labels_MI_stage2 = undersample_data(epochs_MI_stage2, labels_MI_stage2)\n",
    "print(f'Balanced dataset size: {epochs_MI_stage2.shape[0]} trials')\n",
    "print(f'Class distribution in balanced dataset: {np.bincount(labels_MI_stage2)}')\n",
    "\n",
    "print(f'Original dataset size: {combined_epochs.shape[0]} trials')\n",
    "combined_epochs, combined_labels = undersample_data(combined_epochs, combined_labels)\n",
    "print(f'Balanced dataset size: {combined_epochs.shape[0]} trials')\n",
    "print(f'Class distribution in balanced dataset: {np.bincount(combined_labels)}')\n",
    "   "
   ]
  },
  {
   "cell_type": "code",
   "execution_count": 9,
   "metadata": {},
   "outputs": [],
   "source": [
    "data_dict = {\"calib_data\": np.squeeze(np.array(epochs_MI_stage2)), \"labels\": labels_MI_stage2}\n",
    "file_calib = f\"..\\\\saved_models\\\\calib_data_{cmd}.pickle\"\n",
    "with open(file_calib, \"wb\") as f:\n",
    "    pickle.dump(data_dict, f)\n",
    "data_dict = {\"calib_data\": np.array(combined_epochs), \"labels\": combined_labels}\n",
    "file = f\"..\\\\saved_models\\\\rebound_data_{cmd}.pickle\"\n",
    "with open(file, \"wb\") as f:\n",
    "    pickle.dump(data_dict, f)"
   ]
  },
  {
   "cell_type": "markdown",
   "metadata": {},
   "source": [
    "## Train models"
   ]
  },
  {
   "cell_type": "code",
   "execution_count": 10,
   "metadata": {},
   "outputs": [],
   "source": [
    "model, search_space = get_MDM_model()\n",
    "cov = model['feat'].fit_transform(combined_epochs)\n",
    "model['classifier'].fit(cov, combined_labels)\n",
    "dist = model['classifier'].transform(cov)\n",
    "\n",
    "tresh = np.percentile(dist[combined_labels==1, 1], 99)\n",
    "\n",
    "file = f'..\\\\saved_models\\\\tresh_M1_{cmd}.pickle'\n",
    "with open(file, \"wb\") as f:\n",
    "    pickle.dump(tresh, f)"
   ]
  },
  {
   "cell_type": "code",
   "execution_count": 11,
   "metadata": {},
   "outputs": [
    {
     "data": {
      "image/png": "[encoded data removed]",
      "text/plain": [
       "<Figure size 1200x800 with 1 Axes>"
      ]
     },
     "metadata": {},
     "output_type": "display_data"
    }
   ],
   "source": [
    "%matplotlib inline\n",
    "# Compute the histogram for the rebound class\n",
    "counts, bins = np.histogram(dist[combined_labels == 0, 1], bins=30)\n",
    "bin_width = bins[1] - bins[0]\n",
    "density = counts / (len(dist[combined_labels == 0, 1]) * bin_width)\n",
    "\n",
    "# Calculate the histogram for the MI class\n",
    "counts1, bins1 = np.histogram(dist[combined_labels == 1, 1], bins=30)\n",
    "bin_width1 = bins1[1] - bins1[0]\n",
    "density1 = counts1 / (len(dist[combined_labels == 1, 1]) * bin_width1)\n",
    "\n",
    "# Use a modern style\n",
    "plt.style.use('seaborn-v0_8-whitegrid')\n",
    "\n",
    "# Create the plot\n",
    "plt.figure(figsize=(12, 8))  # Set the figure size\n",
    "\n",
    "# Color palette\n",
    "colors = ['#1f77b4', '#ff7f0e']\n",
    "\n",
    "# Plot histograms with transparency for overlapping bars\n",
    "plt.bar(bins[:-1], density, width=bin_width, edgecolor='black', color=colors[0], alpha=0.6, label='Beta Rebound')\n",
    "plt.bar(bins1[:-1], density1, width=bin_width1, edgecolor='black', color=colors[1], alpha=0.6, label='Motor Imagery')\n",
    "\n",
    "# Add a vertical line for the threshold\n",
    "plt.axvline(x=tresh, color='red', linewidth=4, linestyle='--', ymax=1, label='95% Threshold for MI')\n",
    "\n",
    "# Add titles and labels\n",
    "plt.title('Distance to the MDM Barycenter for the Class Motor Imagery', fontsize=16, fontweight='bold')\n",
    "plt.xlabel('Value', fontsize=14, fontweight='bold')\n",
    "plt.ylabel('Density', fontsize=14, fontweight='bold')\n",
    "\n",
    "# Add grid\n",
    "plt.grid(True, linestyle='--', alpha=0.7)\n",
    "\n",
    "# Add legend\n",
    "plt.legend(fontsize=12)\n",
    "\n",
    "# Show the plot\n",
    "plt.tight_layout()  # Adjust the padding between and around subplots\n",
    "plt.show()"
   ]
  },
  {
   "cell_type": "markdown",
   "metadata": {},
   "source": [
    "## MDM"
   ]
  },
  {
   "cell_type": "code",
   "execution_count": 12,
   "metadata": {},
   "outputs": [
    {
     "name": "stdout",
     "output_type": "stream",
     "text": [
      "Training the model...\n"
     ]
    },
    {
     "name": "stderr",
     "output_type": "stream",
     "text": [
      "c:\\Users\\ludov\\.conda\\envs\\MIBCI\\lib\\site-packages\\sklearn\\model_selection\\_validation.py:425: FitFailedWarning: \n",
      "10 fits failed out of a total of 45.\n",
      "The score on these train-test partitions for these parameters will be set to nan.\n",
      "If these failures are not expected, you can try to debug them by setting error_score='raise'.\n",
      "\n",
      "Below are more details about the failures:\n",
      "--------------------------------------------------------------------------------\n",
      "2 fits failed with the following error:\n",
      "Traceback (most recent call last):\n",
      "  File \"c:\\Users\\ludov\\.conda\\envs\\MIBCI\\lib\\site-packages\\sklearn\\model_selection\\_validation.py\", line 732, in _fit_and_score\n",
      "    estimator.fit(X_train, y_train, **fit_params)\n",
      "  File \"c:\\Users\\ludov\\.conda\\envs\\MIBCI\\lib\\site-packages\\sklearn\\base.py\", line 1151, in wrapper\n",
      "    return fit_method(estimator, *args, **kwargs)\n",
      "  File \"c:\\Users\\ludov\\.conda\\envs\\MIBCI\\lib\\site-packages\\sklearn\\pipeline.py\", line 420, in fit\n",
      "    self._final_estimator.fit(Xt, y, **fit_params_last_step)\n",
      "  File \"c:\\Users\\ludov\\.conda\\envs\\MIBCI\\lib\\site-packages\\pyriemann\\classification.py\", line 284, in fit\n",
      "    cov = self._fgda.fit_transform(X, y, sample_weight=sample_weight)\n",
      "  File \"c:\\Users\\ludov\\.conda\\envs\\MIBCI\\lib\\site-packages\\sklearn\\utils\\_set_output.py\", line 140, in wrapped\n",
      "    data_to_wrap = f(self, X, *args, **kwargs)\n",
      "  File \"c:\\Users\\ludov\\.conda\\envs\\MIBCI\\lib\\site-packages\\pyriemann\\tangentspace.py\", line 350, in fit_transform\n",
      "    ts = self._fit_lda(X, y, sample_weight=sample_weight)\n",
      "  File \"c:\\Users\\ludov\\.conda\\envs\\MIBCI\\lib\\site-packages\\pyriemann\\tangentspace.py\", line 283, in _fit_lda\n",
      "    ts = self._ts.fit_transform(X, sample_weight=sample_weight)\n",
      "  File \"c:\\Users\\ludov\\.conda\\envs\\MIBCI\\lib\\site-packages\\sklearn\\utils\\_set_output.py\", line 140, in wrapped\n",
      "    data_to_wrap = f(self, X, *args, **kwargs)\n",
      "  File \"c:\\Users\\ludov\\.conda\\envs\\MIBCI\\lib\\site-packages\\pyriemann\\tangentspace.py\", line 200, in fit_transform\n",
      "    self.reference_ = mean_covariance(\n",
      "  File \"c:\\Users\\ludov\\.conda\\envs\\MIBCI\\lib\\site-packages\\pyriemann\\utils\\mean.py\", line 656, in mean_covariance\n",
      "    C = mean_function(\n",
      "  File \"c:\\Users\\ludov\\.conda\\envs\\MIBCI\\lib\\site-packages\\pyriemann\\utils\\mean.py\", line 509, in mean_riemann\n",
      "    J = np.einsum('a,abc->bc', sample_weight, logm(Cm12 @ covmats @ Cm12))\n",
      "  File \"c:\\Users\\ludov\\.conda\\envs\\MIBCI\\lib\\site-packages\\pyriemann\\utils\\base.py\", line 99, in logm\n",
      "    return _matrix_operator(C, np.log)\n",
      "  File \"c:\\Users\\ludov\\.conda\\envs\\MIBCI\\lib\\site-packages\\pyriemann\\utils\\base.py\", line 14, in _matrix_operator\n",
      "    raise ValueError(\n",
      "ValueError: Matrices must be positive definite. Add regularization to avoid this error.\n",
      "\n",
      "--------------------------------------------------------------------------------\n",
      "3 fits failed with the following error:\n",
      "Traceback (most recent call last):\n",
      "  File \"c:\\Users\\ludov\\.conda\\envs\\MIBCI\\lib\\site-packages\\sklearn\\model_selection\\_validation.py\", line 732, in _fit_and_score\n",
      "    estimator.fit(X_train, y_train, **fit_params)\n",
      "  File \"c:\\Users\\ludov\\.conda\\envs\\MIBCI\\lib\\site-packages\\sklearn\\base.py\", line 1151, in wrapper\n",
      "    return fit_method(estimator, *args, **kwargs)\n",
      "  File \"c:\\Users\\ludov\\.conda\\envs\\MIBCI\\lib\\site-packages\\sklearn\\pipeline.py\", line 420, in fit\n",
      "    self._final_estimator.fit(Xt, y, **fit_params_last_step)\n",
      "  File \"c:\\Users\\ludov\\.conda\\envs\\MIBCI\\lib\\site-packages\\pyriemann\\classification.py\", line 284, in fit\n",
      "    cov = self._fgda.fit_transform(X, y, sample_weight=sample_weight)\n",
      "  File \"c:\\Users\\ludov\\.conda\\envs\\MIBCI\\lib\\site-packages\\sklearn\\utils\\_set_output.py\", line 140, in wrapped\n",
      "    data_to_wrap = f(self, X, *args, **kwargs)\n",
      "  File \"c:\\Users\\ludov\\.conda\\envs\\MIBCI\\lib\\site-packages\\pyriemann\\tangentspace.py\", line 350, in fit_transform\n",
      "    ts = self._fit_lda(X, y, sample_weight=sample_weight)\n",
      "  File \"c:\\Users\\ludov\\.conda\\envs\\MIBCI\\lib\\site-packages\\pyriemann\\tangentspace.py\", line 283, in _fit_lda\n",
      "    ts = self._ts.fit_transform(X, sample_weight=sample_weight)\n",
      "  File \"c:\\Users\\ludov\\.conda\\envs\\MIBCI\\lib\\site-packages\\sklearn\\utils\\_set_output.py\", line 140, in wrapped\n",
      "    data_to_wrap = f(self, X, *args, **kwargs)\n",
      "  File \"c:\\Users\\ludov\\.conda\\envs\\MIBCI\\lib\\site-packages\\pyriemann\\tangentspace.py\", line 200, in fit_transform\n",
      "    self.reference_ = mean_covariance(\n",
      "  File \"c:\\Users\\ludov\\.conda\\envs\\MIBCI\\lib\\site-packages\\pyriemann\\utils\\mean.py\", line 656, in mean_covariance\n",
      "    C = mean_function(\n",
      "  File \"c:\\Users\\ludov\\.conda\\envs\\MIBCI\\lib\\site-packages\\pyriemann\\utils\\mean.py\", line 510, in mean_riemann\n",
      "    C = C12 @ expm(nu * J) @ C12\n",
      "  File \"c:\\Users\\ludov\\.conda\\envs\\MIBCI\\lib\\site-packages\\pyriemann\\utils\\base.py\", line 47, in expm\n",
      "    return _matrix_operator(C, np.exp)\n",
      "  File \"c:\\Users\\ludov\\.conda\\envs\\MIBCI\\lib\\site-packages\\pyriemann\\utils\\base.py\", line 14, in _matrix_operator\n",
      "    raise ValueError(\n",
      "ValueError: Matrices must be positive definite. Add regularization to avoid this error.\n",
      "\n",
      "--------------------------------------------------------------------------------\n",
      "5 fits failed with the following error:\n",
      "Traceback (most recent call last):\n",
      "  File \"c:\\Users\\ludov\\.conda\\envs\\MIBCI\\lib\\site-packages\\sklearn\\model_selection\\_validation.py\", line 732, in _fit_and_score\n",
      "    estimator.fit(X_train, y_train, **fit_params)\n",
      "  File \"c:\\Users\\ludov\\.conda\\envs\\MIBCI\\lib\\site-packages\\sklearn\\base.py\", line 1151, in wrapper\n",
      "    return fit_method(estimator, *args, **kwargs)\n",
      "  File \"c:\\Users\\ludov\\.conda\\envs\\MIBCI\\lib\\site-packages\\sklearn\\pipeline.py\", line 420, in fit\n",
      "    self._final_estimator.fit(Xt, y, **fit_params_last_step)\n",
      "  File \"c:\\Users\\ludov\\.conda\\envs\\MIBCI\\lib\\site-packages\\pyriemann\\classification.py\", line 284, in fit\n",
      "    cov = self._fgda.fit_transform(X, y, sample_weight=sample_weight)\n",
      "  File \"c:\\Users\\ludov\\.conda\\envs\\MIBCI\\lib\\site-packages\\sklearn\\utils\\_set_output.py\", line 140, in wrapped\n",
      "    data_to_wrap = f(self, X, *args, **kwargs)\n",
      "  File \"c:\\Users\\ludov\\.conda\\envs\\MIBCI\\lib\\site-packages\\pyriemann\\tangentspace.py\", line 350, in fit_transform\n",
      "    ts = self._fit_lda(X, y, sample_weight=sample_weight)\n",
      "  File \"c:\\Users\\ludov\\.conda\\envs\\MIBCI\\lib\\site-packages\\pyriemann\\tangentspace.py\", line 283, in _fit_lda\n",
      "    ts = self._ts.fit_transform(X, sample_weight=sample_weight)\n",
      "  File \"c:\\Users\\ludov\\.conda\\envs\\MIBCI\\lib\\site-packages\\sklearn\\utils\\_set_output.py\", line 140, in wrapped\n",
      "    data_to_wrap = f(self, X, *args, **kwargs)\n",
      "  File \"c:\\Users\\ludov\\.conda\\envs\\MIBCI\\lib\\site-packages\\pyriemann\\tangentspace.py\", line 200, in fit_transform\n",
      "    self.reference_ = mean_covariance(\n",
      "  File \"c:\\Users\\ludov\\.conda\\envs\\MIBCI\\lib\\site-packages\\pyriemann\\utils\\mean.py\", line 656, in mean_covariance\n",
      "    C = mean_function(\n",
      "  File \"c:\\Users\\ludov\\.conda\\envs\\MIBCI\\lib\\site-packages\\pyriemann\\utils\\mean.py\", line 352, in mean_logeuclid\n",
      "    C = expm(mean_euclid(logm(covmats), sample_weight=sample_weight))\n",
      "  File \"c:\\Users\\ludov\\.conda\\envs\\MIBCI\\lib\\site-packages\\pyriemann\\utils\\base.py\", line 47, in expm\n",
      "    return _matrix_operator(C, np.exp)\n",
      "  File \"c:\\Users\\ludov\\.conda\\envs\\MIBCI\\lib\\site-packages\\pyriemann\\utils\\base.py\", line 14, in _matrix_operator\n",
      "    raise ValueError(\n",
      "ValueError: Matrices must be positive definite. Add regularization to avoid this error.\n",
      "\n",
      "  warnings.warn(some_fits_failed_message, FitFailedWarning)\n",
      "c:\\Users\\ludov\\.conda\\envs\\MIBCI\\lib\\site-packages\\sklearn\\model_selection\\_search.py:976: UserWarning: One or more of the test scores are non-finite: [0.61333333 0.61333333 0.63333333 0.64666667 0.65333333        nan\n",
      " 0.65333333 0.65333333        nan]\n",
      "  warnings.warn(\n"
     ]
    },
    {
     "name": "stdout",
     "output_type": "stream",
     "text": [
      "**************************************************\n",
      "0.60 accuracy with a standard deviation of 0.08\n",
      "**************************************************\n"
     ]
    },
    {
     "data": {
      "image/png": "[encoded data removed]",
      "text/plain": [
       "<Figure size 640x480 with 2 Axes>"
      ]
     },
     "metadata": {},
     "output_type": "display_data"
    },
    {
     "data": {
      "text/plain": [
       "<Figure size 640x480 with 0 Axes>"
      ]
     },
     "metadata": {},
     "output_type": "display_data"
    }
   ],
   "source": [
    "model, search_space = get_MDM_model()\n",
    "cv = StratifiedShuffleSplit(n_splits=5, test_size=0.2, random_state=42)\n",
    "grid = GridSearchCV(model, param_grid=search_space, cv=cv, n_jobs=-1)\n",
    "print(\"Training the model...\")\n",
    "grid.fit(combined_epochs, combined_labels)\n",
    "\n",
    "clf = grid.best_estimator_\n",
    "print('*'*50)\n",
    "# Get the mean and std of the test scores for the best parameters\n",
    "scores = cross_val_score(clf, combined_epochs, combined_labels, cv=7)\n",
    "# Print the results\n",
    "print(\"%0.2f accuracy with a standard deviation of %0.2f\" % (scores.mean(), scores.std()))\n",
    "print('*'*50)\n",
    "y_pred = cross_val_predict(clf, combined_epochs, combined_labels, cv=5)\n",
    "conf_mat = confusion_matrix(combined_labels, y_pred)\n",
    "# Normalize\n",
    "conf_mat = conf_mat.astype('float') / conf_mat.sum(axis=1)[:, np.newaxis]\n",
    "# Plot confusion matrix\n",
    "ax= plt.subplot()\n",
    "cmn = pd.DataFrame(conf_mat, range(2), range(2))\n",
    "sns.heatmap(cmn, annot=True ,cmap=\"YlGn\", ax=ax)\n",
    "ax.set_xlabel('Predicted labels');ax.set_ylabel('True labels'); \n",
    "classes_names = ['Motor Intention','Rebound']\n",
    "ax.xaxis.set_ticklabels(classes_names); ax.yaxis.set_ticklabels(classes_names)\n",
    "plt.title(f'Average score: {scores.mean():.2f} (+/-) {scores.std():.2f}', fontsize = 15)\n",
    "file = f'..\\\\saved_models\\\\MDM_{cmd}.pickle'\n",
    "joblib.dump(grid, file)\n",
    "plt.show()\n",
    "plt.savefig(f\"..\\\\saved_models\\MDM_{cmd}.png\")"
   ]
  },
  {
   "cell_type": "markdown",
   "metadata": {},
   "source": [
    "## CSP"
   ]
  },
  {
   "cell_type": "code",
   "execution_count": 13,
   "metadata": {},
   "outputs": [
    {
     "name": "stdout",
     "output_type": "stream",
     "text": [
      "Training the model...\n",
      "**************************************************\n",
      "0.54 accuracy with a standard deviation of 0.07\n",
      "**************************************************\n"
     ]
    },
    {
     "data": {
      "image/png": "[encoded data removed]",
      "text/plain": [
       "<Figure size 640x480 with 2 Axes>"
      ]
     },
     "metadata": {},
     "output_type": "display_data"
    },
    {
     "data": {
      "text/plain": [
       "<Figure size 640x480 with 0 Axes>"
      ]
     },
     "metadata": {},
     "output_type": "display_data"
    }
   ],
   "source": [
    "model, search_space = get_CSP_model()\n",
    "cv = StratifiedShuffleSplit(n_splits=5, test_size=0.2, random_state=42)\n",
    "grid = GridSearchCV(model, param_grid=search_space, cv=cv, n_jobs=-1)\n",
    "print(\"Training the model...\")\n",
    "grid.fit(combined_epochs, combined_labels)\n",
    "\n",
    "clf = grid.best_estimator_\n",
    "print('*'*50)\n",
    "# Get the mean and std of the test scores for the best parameters\n",
    "scores = cross_val_score(clf, combined_epochs, combined_labels, cv=7)\n",
    "# Print the results\n",
    "print(\"%0.2f accuracy with a standard deviation of %0.2f\" % (scores.mean(), scores.std()))\n",
    "print('*'*50)\n",
    "y_pred = cross_val_predict(clf, combined_epochs, combined_labels, cv=5)\n",
    "conf_mat = confusion_matrix(combined_labels, y_pred)\n",
    "# Normalize\n",
    "conf_mat = conf_mat.astype('float') / conf_mat.sum(axis=1)[:, np.newaxis]\n",
    "# Plot confusion matrix\n",
    "ax= plt.subplot()\n",
    "cmn = pd.DataFrame(conf_mat, range(2), range(2))\n",
    "sns.heatmap(cmn, annot=True ,cmap=\"YlGn\", ax=ax)\n",
    "ax.set_xlabel('Predicted labels');ax.set_ylabel('True labels'); \n",
    "classes_names = ['Motor Intention','Rebound']\n",
    "ax.xaxis.set_ticklabels(classes_names); ax.yaxis.set_ticklabels(classes_names)\n",
    "plt.title(f'Average score: {scores.mean():.2f} (+/-) {scores.std():.2f}', fontsize = 15)\n",
    "file = f'..\\\\saved_models\\\\CSP_{cmd}.pickle'\n",
    "joblib.dump(grid, file)\n",
    "plt.show()\n",
    "plt.savefig(f\"..\\\\saved_models\\CSP_{cmd}.png\")"
   ]
  }
 ],
 "metadata": {
  "kernelspec": {
   "display_name": "MIBCI",
   "language": "python",
   "name": "python3"
  },
  "language_info": {
   "codemirror_mode": {
    "name": "ipython",
    "version": 3
   },
   "file_extension": ".py",
   "mimetype": "text/x-python",
   "name": "python",
   "nbconvert_exporter": "python",
   "pygments_lexer": "ipython3",
   "version": "3.8.18"
  }
 },
 "nbformat": 4,
 "nbformat_minor": 2
}
